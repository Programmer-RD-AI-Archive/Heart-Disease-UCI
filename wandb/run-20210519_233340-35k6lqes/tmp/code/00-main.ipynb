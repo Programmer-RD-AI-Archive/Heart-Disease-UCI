{
 "cells": [
  {
   "cell_type": "markdown",
   "metadata": {},
   "source": [
    "## Load the data\n",
    "## Clean the data\n",
    "## Modelling"
   ]
  },
  {
   "cell_type": "code",
   "execution_count": 1,
   "metadata": {},
   "outputs": [],
   "source": [
    "import pandas as pd"
   ]
  },
  {
   "cell_type": "code",
   "execution_count": 2,
   "metadata": {},
   "outputs": [],
   "source": [
    "data = pd.read_csv('./data.csv')"
   ]
  },
  {
   "cell_type": "code",
   "execution_count": 3,
   "metadata": {},
   "outputs": [],
   "source": [
    "X,y = data.drop('target',axis=1),data['target']"
   ]
  },
  {
   "cell_type": "code",
   "execution_count": 4,
   "metadata": {},
   "outputs": [],
   "source": [
    "from sklearn.model_selection import train_test_split"
   ]
  },
  {
   "cell_type": "code",
   "execution_count": 5,
   "metadata": {},
   "outputs": [],
   "source": [
    "X_train,X_test,y_train,y_test = train_test_split(X,y,test_size=0.25)"
   ]
  },
  {
   "cell_type": "code",
   "execution_count": 6,
   "metadata": {},
   "outputs": [],
   "source": [
    "import torch\n",
    "import torch.nn as nn"
   ]
  },
  {
   "cell_type": "code",
   "execution_count": 7,
   "metadata": {},
   "outputs": [],
   "source": [
    "import numpy as np"
   ]
  },
  {
   "cell_type": "code",
   "execution_count": 8,
   "metadata": {},
   "outputs": [],
   "source": [
    "X_train = torch.from_numpy(np.array(X_train).astype(np.float32))\n",
    "y_train = torch.from_numpy(np.array(y_train).astype(np.float32))\n",
    "X_test = torch.from_numpy(np.array(X_test).astype(np.float32))\n",
    "y_test = torch.from_numpy(np.array(y_test).astype(np.float32))"
   ]
  },
  {
   "cell_type": "code",
   "execution_count": 9,
   "metadata": {},
   "outputs": [
    {
     "data": {
      "text/plain": [
       "torch.Size([227, 13])"
      ]
     },
     "execution_count": 9,
     "metadata": {},
     "output_type": "execute_result"
    }
   ],
   "source": [
    "X_train.shape"
   ]
  },
  {
   "cell_type": "code",
   "execution_count": 10,
   "metadata": {},
   "outputs": [
    {
     "data": {
      "text/plain": [
       "torch.Size([76, 13])"
      ]
     },
     "execution_count": 10,
     "metadata": {},
     "output_type": "execute_result"
    }
   ],
   "source": [
    "X_test.shape"
   ]
  },
  {
   "cell_type": "code",
   "execution_count": 11,
   "metadata": {},
   "outputs": [
    {
     "data": {
      "text/plain": [
       "torch.Size([227])"
      ]
     },
     "execution_count": 11,
     "metadata": {},
     "output_type": "execute_result"
    }
   ],
   "source": [
    "y_train.shape"
   ]
  },
  {
   "cell_type": "code",
   "execution_count": 12,
   "metadata": {},
   "outputs": [
    {
     "data": {
      "text/plain": [
       "torch.Size([76])"
      ]
     },
     "execution_count": 12,
     "metadata": {},
     "output_type": "execute_result"
    }
   ],
   "source": [
    "y_test.shape"
   ]
  },
  {
   "cell_type": "markdown",
   "metadata": {},
   "source": [
    "#### Modelling"
   ]
  },
  {
   "cell_type": "code",
   "execution_count": 13,
   "metadata": {},
   "outputs": [],
   "source": [
    "import torch.nn.functional as F"
   ]
  },
  {
   "cell_type": "code",
   "execution_count": 14,
   "metadata": {},
   "outputs": [],
   "source": [
    "class Test_Model(nn.Module):\n",
    "    def __init__(self):\n",
    "        super().__init__()\n",
    "        self.fc1 = nn.Linear(13,64)\n",
    "        self.fc2 = nn.Linear(64,128)\n",
    "        self.fc3 = nn.Linear(128,256)\n",
    "        self.fc4 = nn.Linear(256,512)\n",
    "        self.fc5 = nn.Linear(512,1024)\n",
    "        self.fc6 = nn.Linear(1024,512)\n",
    "        self.fc7 = nn.Linear(512,1)\n",
    "    \n",
    "    def forward(self,X):\n",
    "        preds = self.fc1(X)\n",
    "        preds = F.relu(preds)\n",
    "        preds = self.fc2(preds)\n",
    "        preds = F.relu(preds)\n",
    "        preds = self.fc3(preds)\n",
    "        preds = F.relu(preds)\n",
    "        preds = self.fc4(preds)\n",
    "        preds = F.relu(preds)\n",
    "        preds = self.fc5(preds)\n",
    "        preds = F.relu(preds)\n",
    "        preds = self.fc6(preds)\n",
    "        preds = F.relu(preds)\n",
    "        preds = self.fc7(preds)\n",
    "        return F.sigmoid(preds)"
   ]
  },
  {
   "cell_type": "code",
   "execution_count": 15,
   "metadata": {},
   "outputs": [],
   "source": [
    "device = torch.device('cuda')"
   ]
  },
  {
   "cell_type": "code",
   "execution_count": 16,
   "metadata": {},
   "outputs": [],
   "source": [
    "X_train = X_train.to(device)\n",
    "y_train = y_train.to(device)\n",
    "X_test = X_test.to(device)\n",
    "y_test = y_test.to(device)"
   ]
  },
  {
   "cell_type": "code",
   "execution_count": 17,
   "metadata": {},
   "outputs": [],
   "source": [
    "PROJECT_NAME = 'Heart-Disease-UCI'"
   ]
  },
  {
   "cell_type": "code",
   "execution_count": 18,
   "metadata": {},
   "outputs": [],
   "source": [
    "def get_loss(criterion,X,y,model):\n",
    "    model.eval()\n",
    "    with torch.no_grad():\n",
    "        preds = model(X.float().to(device))\n",
    "        preds = preds.to(device)\n",
    "        y = y.to(device)\n",
    "        loss = criterion(preds,y)\n",
    "    model.train()\n",
    "    return loss.item()\n",
    "def get_accuracy(X,y,model):\n",
    "    model.eval()\n",
    "    with torch.no_grad():\n",
    "        correct = 0\n",
    "        total = 0\n",
    "        for i in range(len(X)):\n",
    "            pred = model(X[i].float().to(device))\n",
    "            pred.to(device)\n",
    "            if round(int(pred[0])) == round(int(y[i])):\n",
    "                correct += 1\n",
    "            total += 1\n",
    "        if correct == 0:\n",
    "            correct += 1\n",
    "    model.train()\n",
    "    return round(correct/total,3)"
   ]
  },
  {
   "cell_type": "code",
   "execution_count": 19,
   "metadata": {},
   "outputs": [],
   "source": [
    "import wandb"
   ]
  },
  {
   "cell_type": "code",
   "execution_count": 20,
   "metadata": {},
   "outputs": [],
   "source": [
    "from tqdm import tqdm"
   ]
  },
  {
   "cell_type": "code",
   "execution_count": 94,
   "metadata": {},
   "outputs": [],
   "source": [
    "EPOCHS = 51"
   ]
  },
  {
   "cell_type": "code",
   "execution_count": 95,
   "metadata": {},
   "outputs": [
    {
     "data": {
      "text/html": [
       "\n",
       "                Tracking run with wandb version 0.10.30<br/>\n",
       "                Syncing run <strong style=\"color:#cdcd00\">baseline</strong> to <a href=\"https://wandb.ai\" target=\"_blank\">Weights & Biases</a> <a href=\"https://docs.wandb.com/integrations/jupyter.html\" target=\"_blank\">(Documentation)</a>.<br/>\n",
       "                Project page: <a href=\"https://wandb.ai/ranuga-d/Heart-Disease-UCI\" target=\"_blank\">https://wandb.ai/ranuga-d/Heart-Disease-UCI</a><br/>\n",
       "                Run page: <a href=\"https://wandb.ai/ranuga-d/Heart-Disease-UCI/runs/1hwa9bs0\" target=\"_blank\">https://wandb.ai/ranuga-d/Heart-Disease-UCI/runs/1hwa9bs0</a><br/>\n",
       "                Run data is saved locally in <code>/home/indika/Programming/Projects/Python/Artifical-Intelligence/PyTorch/Classification/Heart-Disease-UCI/wandb/run-20210519_233234-1hwa9bs0</code><br/><br/>\n",
       "            "
      ],
      "text/plain": [
       "<IPython.core.display.HTML object>"
      ]
     },
     "metadata": {},
     "output_type": "display_data"
    },
    {
     "name": "stderr",
     "output_type": "stream",
     "text": [
      "100%|██████████| 237/237 [00:22<00:00, 10.54it/s]\n"
     ]
    },
    {
     "data": {
      "text/html": [
       "<br/>Waiting for W&B process to finish, PID 755974<br/>Program ended successfully."
      ],
      "text/plain": [
       "<IPython.core.display.HTML object>"
      ]
     },
     "metadata": {},
     "output_type": "display_data"
    },
    {
     "data": {
      "application/vnd.jupyter.widget-view+json": {
       "model_id": "6aec529dcb514dd29cbf0c41dd8f47c3",
       "version_major": 2,
       "version_minor": 0
      },
      "text/plain": [
       "VBox(children=(Label(value=' 0.09MB of 0.09MB uploaded (0.00MB deduped)\\r'), FloatProgress(value=1.0, max=1.0)…"
      ]
     },
     "metadata": {},
     "output_type": "display_data"
    },
    {
     "data": {
      "text/html": [
       "Find user logs for this run at: <code>/home/indika/Programming/Projects/Python/Artifical-Intelligence/PyTorch/Classification/Heart-Disease-UCI/wandb/run-20210519_233234-1hwa9bs0/logs/debug.log</code>"
      ],
      "text/plain": [
       "<IPython.core.display.HTML object>"
      ]
     },
     "metadata": {},
     "output_type": "display_data"
    },
    {
     "data": {
      "text/html": [
       "Find internal logs for this run at: <code>/home/indika/Programming/Projects/Python/Artifical-Intelligence/PyTorch/Classification/Heart-Disease-UCI/wandb/run-20210519_233234-1hwa9bs0/logs/debug-internal.log</code>"
      ],
      "text/plain": [
       "<IPython.core.display.HTML object>"
      ]
     },
     "metadata": {},
     "output_type": "display_data"
    },
    {
     "data": {
      "text/html": [
       "<h3>Run summary:</h3><br/><style>\n",
       "    table.wandb td:nth-child(1) { padding: 0 10px; text-align: right }\n",
       "    </style><table class=\"wandb\">\n",
       "<tr><td>loss</td><td>0.41698</td></tr><tr><td>val_loss</td><td>0.48467</td></tr><tr><td>accuracy</td><td>0.471</td></tr><tr><td>val_accuracy</td><td>0.408</td></tr><tr><td>_runtime</td><td>29</td></tr><tr><td>_timestamp</td><td>1621447383</td></tr><tr><td>_step</td><td>236</td></tr></table>"
      ],
      "text/plain": [
       "<IPython.core.display.HTML object>"
      ]
     },
     "metadata": {},
     "output_type": "display_data"
    },
    {
     "data": {
      "text/html": [
       "<h3>Run history:</h3><br/><style>\n",
       "    table.wandb td:nth-child(1) { padding: 0 10px; text-align: right }\n",
       "    </style><table class=\"wandb\">\n",
       "<tr><td>loss</td><td>▆▆▆▆▆▆▆▅▆▆█▆▆▆▆▅▃▆▂▆▃▃▂▄▅▆▄▄▂▃▂▆▆▆▅▃▂▃▁▁</td></tr><tr><td>val_loss</td><td>▂▃▁▁▁▁▃▇▃▃█▁▁▁▂▆▁▁▃▂▆▇█▂▂▁▂▃▅▇▅▁▁▁▂▆▂▆▁▇</td></tr><tr><td>accuracy</td><td>▁▁▁▁▁▁▁▁▁▁▁▁▁▁▁▁▁▁▁▁▁▁▁▁▁▁▁▁▁▁▁█▇▇▁▁▁▁▇▁</td></tr><tr><td>val_accuracy</td><td>▁▁▁▁▁▁▁▁▁▁▁▁▁▁▁▁▁▁▁▁▁▁▁▁▁▂▁▁▁▁▁█▇▅▁▁▁▁▆▁</td></tr><tr><td>_runtime</td><td>▁▁▁▂▂▂▂▂▃▃▃▃▃▃▄▄▄▄▄▅▅▅▅▅▅▅▆▆▆▆▆▇▇▇▇▇▇███</td></tr><tr><td>_timestamp</td><td>▁▁▁▂▂▂▂▂▃▃▃▃▃▃▄▄▄▄▄▅▅▅▅▅▅▅▆▆▆▆▆▇▇▇▇▇▇███</td></tr><tr><td>_step</td><td>▁▁▁▂▂▂▂▂▂▃▃▃▃▃▄▄▄▄▄▄▅▅▅▅▅▅▆▆▆▆▆▇▇▇▇▇▇███</td></tr></table><br/>"
      ],
      "text/plain": [
       "<IPython.core.display.HTML object>"
      ]
     },
     "metadata": {},
     "output_type": "display_data"
    },
    {
     "data": {
      "text/html": [
       "Synced 6 W&B file(s), 0 media file(s), 2 artifact file(s) and 1 other file(s)"
      ],
      "text/plain": [
       "<IPython.core.display.HTML object>"
      ]
     },
     "metadata": {},
     "output_type": "display_data"
    },
    {
     "data": {
      "text/html": [
       "\n",
       "                    <br/>Synced <strong style=\"color:#cdcd00\">baseline</strong>: <a href=\"https://wandb.ai/ranuga-d/Heart-Disease-UCI/runs/1hwa9bs0\" target=\"_blank\">https://wandb.ai/ranuga-d/Heart-Disease-UCI/runs/1hwa9bs0</a><br/>\n",
       "                "
      ],
      "text/plain": [
       "<IPython.core.display.HTML object>"
      ]
     },
     "metadata": {},
     "output_type": "display_data"
    }
   ],
   "source": [
    "model = Test_Model().to(device)\n",
    "optimizer = torch.optim.SGD(model.parameters(),lr=0.25)\n",
    "criterion = nn.L1Loss()\n",
    "wandb.init(project=PROJECT_NAME,name='baseline')\n",
    "for _ in tqdm(range(EPOCHS)):\n",
    "    preds = model(X_train.float().to(device))\n",
    "    preds = preds.view(len(preds),)\n",
    "    preds.to(device)\n",
    "    loss = criterion(preds,y_train)\n",
    "    optimizer.zero_grad()\n",
    "    loss.backward()\n",
    "    optimizer.step()\n",
    "    wandb.log({'loss':loss.item(),'val_loss':get_loss(criterion,X_test,y_test,model),'accuracy':get_accuracy(X_train,y_train,model),'val_accuracy':get_accuracy(X_test,y_test,model)})\n",
    "wandb.finish()"
   ]
  },
  {
   "cell_type": "code",
   "execution_count": 96,
   "metadata": {},
   "outputs": [
    {
     "data": {
      "text/plain": [
       "tensor([5.5819e-04, 2.8326e-04, 6.2539e-05, 9.8949e-01, 4.3737e-04, 2.8420e-05,\n",
       "        9.7961e-01, 1.4418e-04, 4.7761e-08, 1.6036e-04, 3.1676e-01, 9.8086e-01,\n",
       "        1.2128e-05, 8.3767e-03, 1.9991e-05, 2.5457e-03, 9.6015e-05, 5.8040e-05,\n",
       "        9.9570e-01, 1.3960e-05, 3.7197e-04, 7.3834e-05, 5.8934e-05, 9.6447e-01,\n",
       "        3.1743e-04, 3.7959e-02, 9.6696e-05, 9.6502e-01, 1.0298e-03, 2.9507e-04,\n",
       "        4.0898e-07, 8.8783e-01, 3.3252e-06, 1.6466e-04, 3.9444e-07, 1.2917e-04,\n",
       "        9.3437e-05, 9.9460e-01, 1.8802e-08, 3.1438e-07, 3.5796e-04, 3.5255e-04,\n",
       "        4.9175e-08, 2.1855e-05, 3.0600e-04, 5.9947e-06, 2.5248e-05, 6.3497e-04,\n",
       "        1.2389e-04, 9.3540e-01, 6.0892e-07, 9.4782e-01, 1.7383e-06, 4.5896e-03,\n",
       "        8.3873e-08, 9.4530e-01, 1.5831e-05, 2.6439e-03, 4.1464e-05, 9.6853e-05,\n",
       "        1.1988e-02, 1.6419e-06, 4.7123e-06, 1.0156e-04, 2.8734e-02, 9.9041e-03,\n",
       "        4.1818e-03, 8.1438e-01, 6.6344e-08, 2.0346e-05, 7.2938e-04, 2.5736e-07,\n",
       "        5.5266e-05, 9.9882e-01, 6.5599e-04, 9.9864e-01, 9.9873e-01, 1.7640e-07,\n",
       "        6.8390e-04, 9.9952e-01, 2.5897e-03, 1.3707e-03, 2.9936e-07, 3.9699e-03,\n",
       "        3.4491e-03, 6.3379e-05, 4.5882e-06, 1.3462e-06, 9.9138e-01, 3.9456e-02,\n",
       "        8.4411e-04, 3.7834e-06, 4.7640e-04, 9.9988e-01, 6.7799e-04, 1.2758e-06,\n",
       "        9.9217e-01, 2.0601e-02, 7.8419e-08, 5.8660e-05, 1.8045e-03, 1.5139e-05,\n",
       "        9.9943e-01, 7.2141e-04, 1.7790e-04, 1.2899e-03, 8.0001e-07, 4.7976e-05,\n",
       "        9.9718e-01, 9.8296e-01, 5.7644e-07, 1.7473e-02, 2.4354e-07, 3.1845e-02,\n",
       "        5.3214e-03, 2.1040e-05, 5.0254e-04, 1.9049e-04, 1.7893e-03, 2.8964e-06,\n",
       "        6.7334e-04, 8.5890e-06, 1.6950e-05, 2.9273e-06, 1.7806e-06, 9.3491e-01,\n",
       "        1.2133e-08, 2.8188e-07, 2.0587e-01, 2.0574e-04, 8.0870e-06, 7.8742e-04,\n",
       "        1.3229e-01, 9.9970e-01, 8.3449e-01, 1.1247e-03, 1.1930e-06, 1.8582e-04,\n",
       "        9.9900e-01, 2.0428e-05, 8.9969e-06, 1.8628e-06, 2.5729e-07, 9.5550e-01,\n",
       "        1.4084e-03, 9.8214e-04, 1.2550e-04, 4.6478e-04, 8.7668e-04, 5.5901e-07,\n",
       "        1.2804e-01, 1.4731e-03, 8.0711e-02, 3.8425e-07, 1.1057e-07, 2.1784e-05,\n",
       "        4.4794e-04, 2.7242e-01, 8.7703e-04, 5.5405e-06, 9.9994e-01, 9.4660e-01,\n",
       "        9.9613e-01, 7.1636e-01, 4.5832e-05, 4.2484e-05, 9.9464e-01, 7.5214e-04,\n",
       "        9.9617e-01, 1.7654e-04, 2.0662e-04, 7.2401e-05, 7.9076e-03, 3.9811e-05,\n",
       "        1.3174e-04, 4.7209e-08, 9.3802e-04, 9.8824e-01, 1.0504e-02, 4.4399e-02,\n",
       "        2.1897e-04, 2.8506e-04, 2.5010e-09, 9.0157e-05, 1.3381e-04, 5.7361e-02,\n",
       "        2.6619e-04, 9.0742e-01, 1.4021e-04, 1.2040e-07, 2.5856e-03, 6.8297e-05,\n",
       "        3.7343e-05, 3.1327e-06, 1.2712e-04, 3.5421e-03, 9.4061e-01, 1.0939e-03,\n",
       "        4.1303e-04, 2.8895e-06, 1.5144e-06, 3.6743e-04, 9.7394e-01, 4.4109e-04,\n",
       "        9.9923e-01, 1.4607e-06, 1.9704e-05, 7.4465e-05, 3.0879e-05, 1.6859e-03,\n",
       "        1.0033e-03, 2.7857e-03, 7.2360e-05, 1.3031e-04, 6.9671e-06, 6.9774e-05,\n",
       "        9.3105e-01, 4.3878e-05, 9.1633e-01, 6.8484e-05, 9.9819e-01, 1.1428e-04,\n",
       "        6.0517e-04, 4.5935e-05, 8.3622e-01, 1.7614e-06, 1.4801e-04],\n",
       "       device='cuda:0', grad_fn=<ViewBackward>)"
      ]
     },
     "execution_count": 96,
     "metadata": {},
     "output_type": "execute_result"
    }
   ],
   "source": [
    "preds"
   ]
  },
  {
   "cell_type": "code",
   "execution_count": 97,
   "metadata": {},
   "outputs": [
    {
     "data": {
      "text/plain": [
       "tensor([0., 0., 0., 1., 0., 0., 1., 0., 0., 0., 0., 1., 0., 0., 0., 0., 0., 0.,\n",
       "        1., 0., 0., 0., 0., 1., 0.], device='cuda:0', grad_fn=<SliceBackward>)"
      ]
     },
     "execution_count": 97,
     "metadata": {},
     "output_type": "execute_result"
    }
   ],
   "source": [
    "torch.round(preds)[:25]"
   ]
  },
  {
   "cell_type": "code",
   "execution_count": 98,
   "metadata": {},
   "outputs": [
    {
     "data": {
      "text/plain": [
       "tensor([1., 1., 1., 1., 1., 1., 1., 1., 0., 0., 1., 1., 0., 0., 1., 1., 1., 0.,\n",
       "        1., 1., 0., 0., 0., 0., 1.], device='cuda:0')"
      ]
     },
     "execution_count": 98,
     "metadata": {},
     "output_type": "execute_result"
    }
   ],
   "source": [
    "y_train[:25]"
   ]
  },
  {
   "cell_type": "code",
   "execution_count": null,
   "metadata": {},
   "outputs": [],
   "source": []
  },
  {
   "cell_type": "code",
   "execution_count": null,
   "metadata": {},
   "outputs": [],
   "source": []
  }
 ],
 "metadata": {
  "kernelspec": {
   "display_name": "Python 3.7.3 64-bit ('base': conda)",
   "language": "python",
   "name": "python373jvsc74a57bd0210f9608a45c0278a93c9e0b10db32a427986ab48cfc0d20c139811eb78c4bbc"
  },
  "language_info": {
   "codemirror_mode": {
    "name": "ipython",
    "version": 3
   },
   "file_extension": ".py",
   "mimetype": "text/x-python",
   "name": "python",
   "nbconvert_exporter": "python",
   "pygments_lexer": "ipython3",
   "version": "3.7.3"
  }
 },
 "nbformat": 4,
 "nbformat_minor": 2
}
