{
 "cells": [
  {
   "cell_type": "code",
   "execution_count": 1,
   "metadata": {},
   "outputs": [],
   "source": [
    "import pandas as pd"
   ]
  },
  {
   "cell_type": "code",
   "execution_count": 2,
   "metadata": {},
   "outputs": [],
   "source": [
    "data = pd.read_csv('./data.csv')"
   ]
  },
  {
   "cell_type": "code",
   "execution_count": 3,
   "metadata": {},
   "outputs": [],
   "source": [
    "X,y = data.drop('target',axis=1),data['target']"
   ]
  },
  {
   "cell_type": "code",
   "execution_count": 4,
   "metadata": {},
   "outputs": [],
   "source": [
    "from sklearn.model_selection import train_test_split"
   ]
  },
  {
   "cell_type": "code",
   "execution_count": 5,
   "metadata": {},
   "outputs": [],
   "source": [
    "X_train,X_test,y_train,y_test = train_test_split(X,y,test_size=0.25)"
   ]
  },
  {
   "cell_type": "code",
   "execution_count": 6,
   "metadata": {},
   "outputs": [],
   "source": [
    "import torch\n",
    "import torch.nn as nn"
   ]
  },
  {
   "cell_type": "code",
   "execution_count": 7,
   "metadata": {},
   "outputs": [],
   "source": [
    "import numpy as np"
   ]
  },
  {
   "cell_type": "code",
   "execution_count": 8,
   "metadata": {},
   "outputs": [],
   "source": [
    "X_train = torch.from_numpy(np.array(X_train).astype(np.float32))\n",
    "y_train = torch.from_numpy(np.array(y_train).astype(np.float32))\n",
    "X_test = torch.from_numpy(np.array(X_test).astype(np.float32))\n",
    "y_test = torch.from_numpy(np.array(y_test).astype(np.float32))"
   ]
  },
  {
   "cell_type": "code",
   "execution_count": 9,
   "metadata": {},
   "outputs": [
    {
     "name": "stdout",
     "output_type": "stream",
     "text": [
      "torch.Size([227, 13])"
     ]
    }
   ],
   "source": [
    "X_train.shape"
   ]
  },
  {
   "cell_type": "code",
   "execution_count": 10,
   "metadata": {},
   "outputs": [
    {
     "name": "stdout",
     "output_type": "stream",
     "text": [
      "torch.Size([76, 13])"
     ]
    }
   ],
   "source": [
    "X_test.shape"
   ]
  },
  {
   "cell_type": "code",
   "execution_count": 11,
   "metadata": {},
   "outputs": [
    {
     "name": "stdout",
     "output_type": "stream",
     "text": [
      "torch.Size([227])"
     ]
    }
   ],
   "source": [
    "y_train.shape"
   ]
  },
  {
   "cell_type": "code",
   "execution_count": 12,
   "metadata": {},
   "outputs": [
    {
     "name": "stdout",
     "output_type": "stream",
     "text": [
      "torch.Size([76])"
     ]
    }
   ],
   "source": [
    "y_test.shape"
   ]
  },
  {
   "cell_type": "code",
   "execution_count": 13,
   "metadata": {},
   "outputs": [],
   "source": [
    "import torch.nn.functional as F"
   ]
  },
  {
   "cell_type": "code",
   "execution_count": 14,
   "metadata": {},
   "outputs": [],
   "source": [
    "class Test_Model(nn.Module):\n",
    "    def __init__(self):\n",
    "        super().__init__()\n",
    "        self.fc1 = nn.Linear(13,64)\n",
    "        self.fc2 = nn.Linear(64,128)\n",
    "        self.fc3 = nn.Linear(128,256)\n",
    "        self.fc4 = nn.Linear(256,512)\n",
    "        self.fc5 = nn.Linear(512,1024)\n",
    "        self.fc6 = nn.Linear(1024,512)\n",
    "        self.fc7 = nn.Linear(512,1)\n",
    "    \n",
    "    def forward(self,X):\n",
    "        preds = self.fc1(X)\n",
    "        preds = F.relu(preds)\n",
    "        preds = self.fc2(preds)\n",
    "        preds = F.relu(preds)\n",
    "        preds = self.fc3(preds)\n",
    "        preds = F.relu(preds)\n",
    "        preds = self.fc4(preds)\n",
    "        preds = F.relu(preds)\n",
    "        preds = self.fc5(preds)\n",
    "        preds = F.relu(preds)\n",
    "        preds = self.fc6(preds)\n",
    "        preds = F.relu(preds)\n",
    "        preds = self.fc7(preds)\n",
    "        return F.sigmoid(preds)"
   ]
  },
  {
   "cell_type": "code",
   "execution_count": 15,
   "metadata": {},
   "outputs": [],
   "source": [
    "device = torch.device('cuda')"
   ]
  },
  {
   "cell_type": "code",
   "execution_count": 16,
   "metadata": {},
   "outputs": [],
   "source": [
    "X_train = X_train.to(device)\n",
    "y_train = y_train.to(device)\n",
    "X_test = X_test.to(device)\n",
    "y_test = y_test.to(device)"
   ]
  },
  {
   "cell_type": "code",
   "execution_count": 17,
   "metadata": {},
   "outputs": [],
   "source": [
    "PROJECT_NAME = 'Heart-Disease-UCI'"
   ]
  },
  {
   "cell_type": "code",
   "execution_count": 18,
   "metadata": {},
   "outputs": [],
   "source": [
    "def get_loss(criterion,X,y,model):\n",
    "    model.eval()\n",
    "    with torch.no_grad():\n",
    "        preds = model(X.float().to(device))\n",
    "        preds = preds.to(device)\n",
    "        y = y.to(device)\n",
    "        loss = criterion(preds,y)\n",
    "    model.train()\n",
    "    return loss.item()\n",
    "def get_accuracy(X,y,model):\n",
    "    model.eval()\n",
    "    with torch.no_grad():\n",
    "        correct = 0\n",
    "        total = 0\n",
    "        for i in range(len(X)):\n",
    "            pred = model(X[i].float().to(device))\n",
    "            pred.to(device)\n",
    "            if round(int(pred[0])) == round(int(y[i])):\n",
    "                correct += 1\n",
    "            total += 1\n",
    "        if correct == 0:\n",
    "            correct += 1\n",
    "    model.train()\n",
    "    return round(correct/total,3)"
   ]
  },
  {
   "cell_type": "code",
   "execution_count": 19,
   "metadata": {},
   "outputs": [],
   "source": [
    "import wandb"
   ]
  },
  {
   "cell_type": "code",
   "execution_count": 20,
   "metadata": {},
   "outputs": [],
   "source": [
    "from tqdm import tqdm"
   ]
  },
  {
   "cell_type": "code",
   "execution_count": 21,
   "metadata": {},
   "outputs": [],
   "source": [
    "EPOCHS = 100"
   ]
  },
  {
   "cell_type": "code",
   "execution_count": 22,
   "metadata": {},
   "outputs": [],
   "source": [
    "model = Test_Model().to(device)\n",
    "optimizer = torch.optim.SGD(model.parameters(),lr=0.25)\n",
    "criterion = nn.L1Loss()\n",
    "wandb.init(project=PROJECT_NAME,name='baseline')\n",
    "for _ in tqdm(range(EPOCHS)):\n",
    "    preds = model(X_train.float().to(device))\n",
    "    preds = preds.view(len(preds),)\n",
    "    preds.to(device)\n",
    "    loss = criterion(preds,y_train)\n",
    "    optimizer.zero_grad()\n",
    "    loss.backward()\n",
    "    optimizer.step()\n",
    "    wandb.log({'loss':loss.item(),'val_loss':get_loss(criterion,X_test,y_test,model),'accuracy':get_accuracy(X_train,y_train,model),'val_accuracy':get_accuracy(X_test,y_test,model)})\n",
    "wandb.finish()"
   ]
  },
  {
   "cell_type": "code",
   "execution_count": 23,
   "metadata": {},
   "outputs": [
    {
     "name": "stdout",
     "output_type": "stream",
     "text": [
      "tensor([3.7035e-02, 1.4371e-02, 1.6785e-02, 9.8762e-01, 4.1225e-02, 1.4806e-03,\n",
      "        9.8883e-01, 3.8394e-03, 5.6228e-05, 2.3920e-02, 9.7746e-01, 9.9119e-01,\n",
      "        3.4683e-03, 9.6440e-01, 5.4233e-03, 6.9786e-01, 6.8937e-03, 9.0952e-03,\n",
      "        9.9508e-01, 2.7360e-03, 3.3192e-02, 3.0701e-02, 2.7928e-03, 9.7720e-01,\n",
      "        7.4061e-03, 9.8003e-01, 1.6891e-02, 9.8265e-01, 4.9796e-02, 3.0093e-02,\n",
      "        1.4683e-03, 9.8141e-01, 1.8749e-03, 9.3589e-03, 3.0833e-03, 7.3436e-03,\n",
      "        2.5329e-02, 9.8970e-01, 2.0301e-04, 1.2641e-04, 1.6729e-01, 1.7698e-02,\n",
      "        2.1872e-04, 1.2164e-02, 4.1592e-02, 1.1803e-03, 3.3742e-03, 1.8250e-01,\n",
      "        8.5229e-03, 9.8196e-01, 8.3979e-04, 8.5159e-01, 9.7723e-04, 9.2131e-01,\n",
      "        2.6449e-04, 9.7212e-01, 1.2548e-03, 6.2677e-01, 1.5177e-02, 1.0060e-02,\n",
      "        8.3739e-01, 1.1186e-03, 4.1676e-03, 8.8335e-03, 3.9794e-01, 9.6608e-01,\n",
      "        3.1726e-01, 9.8333e-01, 1.4938e-04, 1.1333e-02, 1.4410e-02, 7.3301e-04,\n",
      "        7.4415e-03, 9.9313e-01, 5.3082e-02, 9.9252e-01, 9.9487e-01, 5.5054e-04,\n",
      "        1.3052e-01, 9.9716e-01, 5.3676e-01, 1.2755e-02, 1.8227e-04, 7.2242e-01,\n",
      "        6.6745e-01, 1.6398e-02, 2.8298e-03, 2.4963e-03, 9.8546e-01, 9.4866e-01,\n",
      "        1.0555e-01, 2.9795e-03, 4.5643e-02, 9.9863e-01, 1.7202e-01, 2.6815e-03,\n",
      "        9.7537e-01, 8.9038e-01, 3.1952e-04, 1.1301e-02, 8.0243e-02, 1.3692e-02,\n",
      "        9.9567e-01, 9.9350e-03, 7.5106e-03, 4.4378e-01, 4.2456e-04, 3.4436e-02,\n",
      "        9.9460e-01, 9.8487e-01, 7.2182e-04, 7.5499e-01, 3.7892e-04, 9.5550e-01,\n",
      "        9.2107e-01, 6.9946e-03, 1.3279e-02, 3.1954e-02, 8.7370e-01, 9.7451e-04,\n",
      "        1.2006e-02, 8.8252e-03, 2.0109e-03, 2.9620e-03, 7.2235e-04, 9.8273e-01,\n",
      "        2.6868e-04, 3.2214e-04, 9.7228e-01, 1.5050e-02, 9.7067e-03, 2.9020e-02,\n",
      "        5.3854e-01, 9.9707e-01, 9.9051e-01, 5.8654e-02, 1.2058e-03, 4.5908e-02,\n",
      "        9.9377e-01, 1.0047e-03, 1.4163e-03, 1.6942e-03, 4.2326e-04, 9.7501e-01,\n",
      "        6.6481e-03, 6.0809e-01, 1.2252e-02, 6.9503e-03, 5.9394e-02, 3.5475e-04,\n",
      "        9.7700e-01, 7.5683e-02, 6.6837e-01, 1.3278e-03, 6.2330e-05, 1.5023e-02,\n",
      "        1.8524e-02, 9.7415e-01, 7.0034e-03, 1.2304e-03, 9.9759e-01, 9.8263e-01,\n",
      "        9.9234e-01, 9.8752e-01, 6.0637e-03, 1.1777e-03, 9.8728e-01, 2.6543e-02,\n",
      "        9.9286e-01, 1.6930e-02, 2.1757e-02, 4.3004e-03, 2.9963e-01, 1.2452e-02,\n",
      "        4.6066e-02, 1.5211e-04, 1.1918e-02, 9.7078e-01, 9.5087e-01, 9.4991e-01,\n",
      "        2.6766e-02, 3.5091e-03, 5.6558e-05, 1.5078e-02, 1.9065e-02, 9.7485e-01,\n",
      "        2.1641e-02, 9.6088e-01, 1.2915e-02, 5.2445e-04, 8.5427e-01, 1.0822e-02,\n",
      "        3.1681e-03, 8.1406e-04, 2.4087e-02, 9.2629e-01, 9.7889e-01, 5.1939e-01,\n",
      "        1.1545e-01, 1.6965e-03, 2.9709e-03, 4.6430e-02, 9.9076e-01, 3.8319e-02,\n",
      "        9.9442e-01, 3.6756e-04, 1.9008e-02, 7.5518e-03, 4.3865e-03, 1.0818e-01,\n",
      "        9.7047e-03, 3.7266e-01, 1.0675e-02, 9.6693e-03, 4.6975e-03, 1.0352e-02,\n",
      "        9.6329e-01, 4.6770e-03, 7.6914e-01, 1.5628e-02, 9.9554e-01, 2.0426e-02,\n",
      "        5.9289e-03, 1.1333e-02, 9.6635e-01, 3.5033e-03, 1.3169e-02],\n",
      "       device='cuda:0', grad_fn=<ViewBackward>)"
     ]
    }
   ],
   "source": [
    "preds"
   ]
  },
  {
   "cell_type": "code",
   "execution_count": 24,
   "metadata": {},
   "outputs": [
    {
     "name": "stdout",
     "output_type": "stream",
     "text": [
      "tensor([0., 0., 0., 1., 0., 0., 1., 0., 0., 0., 1., 1., 0., 1., 0., 1., 0., 0.,\n",
      "        1., 0., 0., 0., 0., 1., 0., 1., 0., 1., 0., 0., 0., 1., 0., 0., 0., 0.,\n",
      "        0., 1., 0., 0., 0., 0., 0., 0., 0., 0., 0., 0., 0., 1., 0., 1., 0., 1.,\n",
      "        0., 1., 0., 1., 0., 0., 1., 0., 0., 0., 0., 1., 0., 1., 0., 0., 0., 0.,\n",
      "        0., 1., 0., 1., 1., 0., 0., 1., 1., 0., 0., 1., 1., 0., 0., 0., 1., 1.,\n",
      "        0., 0., 0., 1., 0., 0., 1., 1., 0., 0., 0., 0., 1., 0., 0., 0., 0., 0.,\n",
      "        1., 1., 0., 1., 0., 1., 1., 0., 0., 0., 1., 0., 0., 0., 0., 0., 0., 1.,\n",
      "        0., 0., 1., 0., 0., 0., 1., 1., 1., 0., 0., 0., 1., 0., 0., 0., 0., 1.,\n",
      "        0., 1., 0., 0., 0., 0., 1., 0., 1., 0., 0., 0., 0., 1., 0., 0., 1., 1.,\n",
      "        1., 1., 0., 0., 1., 0., 1., 0., 0., 0., 0., 0., 0., 0., 0., 1., 1., 1.,\n",
      "        0., 0., 0., 0., 0., 1., 0., 1., 0., 0., 1., 0., 0., 0., 0., 1., 1., 1.,\n",
      "        0., 0., 0., 0., 1., 0., 1., 0., 0., 0., 0., 0., 0., 0., 0., 0., 0., 0.,\n",
      "        1., 0., 1., 0., 1., 0., 0., 0., 1., 0., 0.], device='cuda:0',\n",
      "       grad_fn=<RoundBackward>)"
     ]
    }
   ],
   "source": [
    "torch.round(preds)"
   ]
  },
  {
   "cell_type": "code",
   "execution_count": 25,
   "metadata": {},
   "outputs": [
    {
     "name": "stdout",
     "output_type": "stream",
     "text": [
      "tensor([1., 1., 1., 1., 1., 1., 1., 1., 0., 0., 1., 1.], device='cuda:0')"
     ]
    }
   ],
   "source": [
    "y_train[:12]"
   ]
  },
  {
   "cell_type": "code",
   "execution_count": 26,
   "metadata": {},
   "outputs": [
    {
     "name": "stdout",
     "output_type": "stream",
     "text": [
      "tensor([0., 0., 0., 1., 0., 0., 1., 0., 0., 0., 1., 1.], device='cuda:0',\n",
      "       grad_fn=<SliceBackward>)"
     ]
    }
   ],
   "source": [
    "torch.round(preds)[:12]"
   ]
  },
  {
   "cell_type": "code",
   "execution_count": 27,
   "metadata": {},
   "outputs": [],
   "source": [
    "EPOCHS = 125"
   ]
  },
  {
   "cell_type": "code",
   "execution_count": 28,
   "metadata": {},
   "outputs": [],
   "source": [
    "model = Test_Model().to(device)\n",
    "optimizer = torch.optim.SGD(model.parameters(),lr=0.25)\n",
    "criterion = nn.L1Loss()\n",
    "wandb.init(project=PROJECT_NAME,name='baseline')\n",
    "for _ in tqdm(range(EPOCHS)):\n",
    "    preds = model(X_train.float().to(device))\n",
    "    preds = preds.view(len(preds),)\n",
    "    preds.to(device)\n",
    "    loss = criterion(preds,y_train)\n",
    "    optimizer.zero_grad()\n",
    "    loss.backward()\n",
    "    optimizer.step()\n",
    "    wandb.log({'loss':loss.item(),'val_loss':get_loss(criterion,X_test,y_test,model),'accuracy':get_accuracy(X_train,y_train,model),'val_accuracy':get_accuracy(X_test,y_test,model)})\n",
    "wandb.finish()"
   ]
  },
  {
   "cell_type": "code",
   "execution_count": 29,
   "metadata": {},
   "outputs": [
    {
     "name": "stdout",
     "output_type": "stream",
     "text": [
      "tensor([9.9865e-01, 9.9983e-01, 9.9943e-01, 9.9998e-01, 9.9956e-01, 9.9996e-01,\n",
      "        9.9997e-01, 9.9996e-01, 9.9801e-01, 9.9811e-01, 9.9992e-01, 9.9996e-01,\n",
      "        9.9761e-01, 9.9981e-01, 9.9986e-01, 9.9917e-01, 9.9991e-01, 9.9954e-01,\n",
      "        9.9999e-01, 9.9978e-01, 9.9890e-01, 9.9892e-01, 9.9996e-01, 9.9996e-01,\n",
      "        9.9994e-01, 9.9998e-01, 9.9944e-01, 9.9996e-01, 9.9993e-01, 9.9980e-01,\n",
      "        9.7412e-01, 9.9996e-01, 9.9825e-01, 9.9988e-01, 1.5950e-03, 9.9876e-01,\n",
      "        9.9807e-01, 9.9995e-01, 1.1105e-03, 9.9960e-01, 9.9991e-01, 9.9994e-01,\n",
      "        6.1473e-01, 9.9280e-01, 9.9916e-01, 9.9973e-01, 9.9947e-01, 9.8160e-01,\n",
      "        9.9982e-01, 9.9996e-01, 2.6293e-02, 9.9998e-01, 9.9892e-01, 9.9992e-01,\n",
      "        4.3458e-03, 9.9998e-01, 9.9959e-01, 9.9605e-01, 9.9091e-01, 9.9997e-01,\n",
      "        9.9996e-01, 8.0353e-01, 1.3147e-01, 9.9995e-01, 9.9993e-01, 9.9984e-01,\n",
      "        9.9997e-01, 9.9998e-01, 9.9668e-01, 2.5133e-01, 9.9997e-01, 5.5184e-02,\n",
      "        9.9949e-01, 1.0000e+00, 9.9735e-01, 9.9999e-01, 9.9999e-01, 7.0344e-03,\n",
      "        9.9988e-01, 9.9999e-01, 9.9948e-01, 9.9997e-01, 9.9344e-01, 9.9794e-01,\n",
      "        9.9998e-01, 9.9945e-01, 9.9165e-01, 1.1116e-02, 9.9997e-01, 9.9997e-01,\n",
      "        9.9983e-01, 9.9843e-01, 9.9977e-01, 1.0000e+00, 9.9939e-01, 2.1601e-02,\n",
      "        9.9996e-01, 9.9992e-01, 9.8812e-01, 9.9783e-01, 9.9965e-01, 9.9842e-01,\n",
      "        9.9999e-01, 9.9998e-01, 9.9997e-01, 9.9996e-01, 9.8917e-01, 9.6888e-01,\n",
      "        9.9999e-01, 9.9998e-01, 1.4445e-02, 9.9995e-01, 5.4706e-03, 9.9969e-01,\n",
      "        9.9985e-01, 9.8443e-01, 9.9994e-01, 9.9788e-01, 9.9963e-01, 9.9899e-01,\n",
      "        9.9995e-01, 9.9262e-01, 9.9696e-01, 1.1551e-01, 9.9708e-01, 9.9993e-01,\n",
      "        1.5378e-03, 7.5179e-01, 9.9997e-01, 9.9988e-01, 4.6593e-01, 9.9972e-01,\n",
      "        9.9996e-01, 9.9999e-01, 9.9991e-01, 9.9933e-01, 9.9673e-01, 9.9981e-01,\n",
      "        9.9998e-01, 9.9975e-01, 9.9949e-01, 9.9955e-01, 1.0497e-02, 9.9994e-01,\n",
      "        9.9997e-01, 9.9988e-01, 9.9964e-01, 9.9997e-01, 9.9992e-01, 9.9430e-01,\n",
      "        9.9996e-01, 9.9715e-01, 9.9993e-01, 1.3787e-02, 9.9939e-01, 9.9997e-01,\n",
      "        9.9980e-01, 9.9999e-01, 9.9999e-01, 9.9949e-01, 1.0000e+00, 9.9998e-01,\n",
      "        9.9998e-01, 9.9996e-01, 9.9963e-01, 9.9996e-01, 9.9998e-01, 9.9995e-01,\n",
      "        1.0000e+00, 9.9988e-01, 9.9981e-01, 9.9992e-01, 9.9992e-01, 9.9954e-01,\n",
      "        9.9739e-01, 4.1866e-03, 9.9999e-01, 9.9999e-01, 9.9978e-01, 9.9993e-01,\n",
      "        9.9875e-01, 9.9998e-01, 4.6896e-04, 9.9777e-01, 9.9881e-01, 9.9993e-01,\n",
      "        9.9996e-01, 9.9995e-01, 9.9967e-01, 8.8497e-04, 9.9977e-01, 9.9052e-01,\n",
      "        9.9983e-01, 9.9981e-01, 9.9786e-01, 9.9984e-01, 9.9999e-01, 9.9973e-01,\n",
      "        9.9858e-01, 9.8947e-01, 9.7410e-01, 9.9986e-01, 9.9998e-01, 9.9990e-01,\n",
      "        9.9999e-01, 9.9838e-01, 9.9907e-01, 9.9951e-01, 9.9865e-01, 9.9838e-01,\n",
      "        9.9994e-01, 9.9972e-01, 9.9984e-01, 9.9893e-01, 9.9545e-01, 9.9963e-01,\n",
      "        9.9990e-01, 9.9989e-01, 9.9998e-01, 9.9940e-01, 9.9999e-01, 9.9103e-01,\n",
      "        9.9995e-01, 9.9992e-01, 9.9997e-01, 7.9837e-01, 9.9980e-01],\n",
      "       device='cuda:0', grad_fn=<ViewBackward>)"
     ]
    }
   ],
   "source": [
    "preds"
   ]
  },
  {
   "cell_type": "code",
   "execution_count": 30,
   "metadata": {},
   "outputs": [
    {
     "name": "stdout",
     "output_type": "stream",
     "text": [
      "tensor([1., 1., 1., 1., 1., 1., 1., 1., 1., 1., 1., 1.], device='cuda:0',\n",
      "       grad_fn=<SliceBackward>)"
     ]
    }
   ],
   "source": [
    "torch.round(preds)[:12]"
   ]
  },
  {
   "cell_type": "code",
   "execution_count": 31,
   "metadata": {},
   "outputs": [
    {
     "name": "stdout",
     "output_type": "stream",
     "text": [
      "tensor([1., 1., 1., 1., 1., 1., 1., 1., 0., 0., 1., 1.], device='cuda:0')"
     ]
    }
   ],
   "source": [
    "y_train[:12]"
   ]
  },
  {
   "cell_type": "code",
   "execution_count": 32,
   "metadata": {},
   "outputs": [
    {
     "name": "stdout",
     "output_type": "stream",
     "text": [
      "tensor([1., 1., 1., 1., 1., 1., 1., 1., 1., 1., 1., 1., 1., 1., 1., 1., 1., 1.,\n",
      "        1., 1., 1., 1., 1., 1., 1., 1., 1., 1., 1., 1., 1., 1., 1., 1., 0., 1.,\n",
      "        1., 1., 0., 1., 1., 1., 1., 1., 1., 1., 1., 1., 1., 1., 0., 1., 1., 1.,\n",
      "        0., 1., 1., 1., 1., 1., 1., 1., 0., 1., 1., 1., 1., 1., 1., 0., 1., 0.,\n",
      "        1., 1., 1., 1., 1., 0., 1., 1., 1., 1., 1., 1., 1., 1., 1., 0., 1., 1.,\n",
      "        1., 1., 1., 1., 1., 0., 1., 1., 1., 1., 1., 1., 1., 1., 1., 1., 1., 1.,\n",
      "        1., 1., 0., 1., 0., 1., 1., 1., 1., 1., 1., 1., 1., 1., 1., 0., 1., 1.,\n",
      "        0., 1., 1., 1., 0., 1., 1., 1., 1., 1., 1., 1., 1., 1., 1., 1., 0., 1.,\n",
      "        1., 1., 1., 1., 1., 1., 1., 1., 1., 0., 1., 1., 1., 1., 1., 1., 1., 1.,\n",
      "        1., 1., 1., 1., 1., 1., 1., 1., 1., 1., 1., 1., 1., 0., 1., 1., 1., 1.,\n",
      "        1., 1., 0., 1., 1., 1., 1., 1., 1., 0., 1., 1., 1., 1., 1., 1., 1., 1.,\n",
      "        1., 1., 1., 1., 1., 1., 1., 1., 1., 1., 1., 1., 1., 1., 1., 1., 1., 1.,\n",
      "        1., 1., 1., 1., 1., 1., 1., 1., 1., 1., 1.], device='cuda:0',\n",
      "       grad_fn=<RoundBackward>)"
     ]
    }
   ],
   "source": [
    "torch.round(preds)"
   ]
  },
  {
   "cell_type": "code",
   "execution_count": 33,
   "metadata": {},
   "outputs": [
    {
     "name": "stdout",
     "output_type": "stream",
     "text": [
      "tensor([9.9865e-01, 9.9983e-01, 9.9943e-01, 9.9998e-01, 9.9956e-01, 9.9996e-01,\n",
      "        9.9997e-01, 9.9996e-01, 9.9801e-01, 9.9811e-01, 9.9992e-01, 9.9996e-01,\n",
      "        9.9761e-01, 9.9981e-01, 9.9986e-01, 9.9917e-01, 9.9991e-01, 9.9954e-01,\n",
      "        9.9999e-01, 9.9978e-01, 9.9890e-01, 9.9892e-01, 9.9996e-01, 9.9996e-01,\n",
      "        9.9994e-01, 9.9998e-01, 9.9944e-01, 9.9996e-01, 9.9993e-01, 9.9980e-01,\n",
      "        9.7412e-01, 9.9996e-01, 9.9825e-01, 9.9988e-01, 1.5950e-03, 9.9876e-01,\n",
      "        9.9807e-01, 9.9995e-01, 1.1105e-03, 9.9960e-01, 9.9991e-01, 9.9994e-01,\n",
      "        6.1473e-01, 9.9280e-01, 9.9916e-01, 9.9973e-01, 9.9947e-01, 9.8160e-01,\n",
      "        9.9982e-01, 9.9996e-01, 2.6293e-02, 9.9998e-01, 9.9892e-01, 9.9992e-01,\n",
      "        4.3458e-03, 9.9998e-01, 9.9959e-01, 9.9605e-01, 9.9091e-01, 9.9997e-01,\n",
      "        9.9996e-01, 8.0353e-01, 1.3147e-01, 9.9995e-01, 9.9993e-01, 9.9984e-01,\n",
      "        9.9997e-01, 9.9998e-01, 9.9668e-01, 2.5133e-01, 9.9997e-01, 5.5184e-02,\n",
      "        9.9949e-01, 1.0000e+00, 9.9735e-01, 9.9999e-01, 9.9999e-01, 7.0344e-03,\n",
      "        9.9988e-01, 9.9999e-01, 9.9948e-01, 9.9997e-01, 9.9344e-01, 9.9794e-01,\n",
      "        9.9998e-01, 9.9945e-01, 9.9165e-01, 1.1116e-02, 9.9997e-01, 9.9997e-01,\n",
      "        9.9983e-01, 9.9843e-01, 9.9977e-01, 1.0000e+00, 9.9939e-01, 2.1601e-02,\n",
      "        9.9996e-01, 9.9992e-01, 9.8812e-01, 9.9783e-01, 9.9965e-01, 9.9842e-01,\n",
      "        9.9999e-01, 9.9998e-01, 9.9997e-01, 9.9996e-01, 9.8917e-01, 9.6888e-01,\n",
      "        9.9999e-01, 9.9998e-01, 1.4445e-02, 9.9995e-01, 5.4706e-03, 9.9969e-01,\n",
      "        9.9985e-01, 9.8443e-01, 9.9994e-01, 9.9788e-01, 9.9963e-01, 9.9899e-01,\n",
      "        9.9995e-01, 9.9262e-01, 9.9696e-01, 1.1551e-01, 9.9708e-01, 9.9993e-01,\n",
      "        1.5378e-03, 7.5179e-01, 9.9997e-01, 9.9988e-01, 4.6593e-01, 9.9972e-01,\n",
      "        9.9996e-01, 9.9999e-01, 9.9991e-01, 9.9933e-01, 9.9673e-01, 9.9981e-01,\n",
      "        9.9998e-01, 9.9975e-01, 9.9949e-01, 9.9955e-01, 1.0497e-02, 9.9994e-01,\n",
      "        9.9997e-01, 9.9988e-01, 9.9964e-01, 9.9997e-01, 9.9992e-01, 9.9430e-01,\n",
      "        9.9996e-01, 9.9715e-01, 9.9993e-01, 1.3787e-02, 9.9939e-01, 9.9997e-01,\n",
      "        9.9980e-01, 9.9999e-01, 9.9999e-01, 9.9949e-01, 1.0000e+00, 9.9998e-01,\n",
      "        9.9998e-01, 9.9996e-01, 9.9963e-01, 9.9996e-01, 9.9998e-01, 9.9995e-01,\n",
      "        1.0000e+00, 9.9988e-01, 9.9981e-01, 9.9992e-01, 9.9992e-01, 9.9954e-01,\n",
      "        9.9739e-01, 4.1866e-03, 9.9999e-01, 9.9999e-01, 9.9978e-01, 9.9993e-01,\n",
      "        9.9875e-01, 9.9998e-01, 4.6896e-04, 9.9777e-01, 9.9881e-01, 9.9993e-01,\n",
      "        9.9996e-01, 9.9995e-01, 9.9967e-01, 8.8497e-04, 9.9977e-01, 9.9052e-01,\n",
      "        9.9983e-01, 9.9981e-01, 9.9786e-01, 9.9984e-01, 9.9999e-01, 9.9973e-01,\n",
      "        9.9858e-01, 9.8947e-01, 9.7410e-01, 9.9986e-01, 9.9998e-01, 9.9990e-01,\n",
      "        9.9999e-01, 9.9838e-01, 9.9907e-01, 9.9951e-01, 9.9865e-01, 9.9838e-01,\n",
      "        9.9994e-01, 9.9972e-01, 9.9984e-01, 9.9893e-01, 9.9545e-01, 9.9963e-01,\n",
      "        9.9990e-01, 9.9989e-01, 9.9998e-01, 9.9940e-01, 9.9999e-01, 9.9103e-01,\n",
      "        9.9995e-01, 9.9992e-01, 9.9997e-01, 7.9837e-01, 9.9980e-01],\n",
      "       device='cuda:0', grad_fn=<ViewBackward>)"
     ]
    }
   ],
   "source": [
    "preds"
   ]
  },
  {
   "cell_type": "code",
   "execution_count": 34,
   "metadata": {},
   "outputs": [
    {
     "name": "stdout",
     "output_type": "stream",
     "text": [
      "tensor(0.9987, device='cuda:0', grad_fn=<SelectBackward>)"
     ]
    }
   ],
   "source": [
    "preds[0]"
   ]
  },
  {
   "cell_type": "code",
   "execution_count": 35,
   "metadata": {},
   "outputs": [
    {
     "name": "stdout",
     "output_type": "stream",
     "text": [
      "tensor([9.9865e-01, 9.9983e-01, 9.9943e-01, 9.9998e-01, 9.9956e-01, 9.9996e-01,\n",
      "        9.9997e-01, 9.9996e-01, 9.9801e-01, 9.9811e-01, 9.9992e-01, 9.9996e-01,\n",
      "        9.9761e-01, 9.9981e-01, 9.9986e-01, 9.9917e-01, 9.9991e-01, 9.9954e-01,\n",
      "        9.9999e-01, 9.9978e-01, 9.9890e-01, 9.9892e-01, 9.9996e-01, 9.9996e-01,\n",
      "        9.9994e-01, 9.9998e-01, 9.9944e-01, 9.9996e-01, 9.9993e-01, 9.9980e-01,\n",
      "        9.7412e-01, 9.9996e-01, 9.9825e-01, 9.9988e-01, 1.5950e-03, 9.9876e-01,\n",
      "        9.9807e-01, 9.9995e-01, 1.1105e-03, 9.9960e-01, 9.9991e-01, 9.9994e-01,\n",
      "        6.1473e-01, 9.9280e-01, 9.9916e-01, 9.9973e-01, 9.9947e-01, 9.8160e-01,\n",
      "        9.9982e-01, 9.9996e-01, 2.6293e-02, 9.9998e-01, 9.9892e-01, 9.9992e-01,\n",
      "        4.3458e-03, 9.9998e-01, 9.9959e-01, 9.9605e-01, 9.9091e-01, 9.9997e-01,\n",
      "        9.9996e-01, 8.0353e-01, 1.3147e-01, 9.9995e-01, 9.9993e-01, 9.9984e-01,\n",
      "        9.9997e-01, 9.9998e-01, 9.9668e-01, 2.5133e-01, 9.9997e-01, 5.5184e-02,\n",
      "        9.9949e-01, 1.0000e+00, 9.9735e-01, 9.9999e-01, 9.9999e-01, 7.0344e-03,\n",
      "        9.9988e-01, 9.9999e-01, 9.9948e-01, 9.9997e-01, 9.9344e-01, 9.9794e-01,\n",
      "        9.9998e-01, 9.9945e-01, 9.9165e-01, 1.1116e-02, 9.9997e-01, 9.9997e-01,\n",
      "        9.9983e-01, 9.9843e-01, 9.9977e-01, 1.0000e+00, 9.9939e-01, 2.1601e-02,\n",
      "        9.9996e-01, 9.9992e-01, 9.8812e-01, 9.9783e-01, 9.9965e-01, 9.9842e-01,\n",
      "        9.9999e-01, 9.9998e-01, 9.9997e-01, 9.9996e-01, 9.8917e-01, 9.6888e-01,\n",
      "        9.9999e-01, 9.9998e-01, 1.4445e-02, 9.9995e-01, 5.4706e-03, 9.9969e-01,\n",
      "        9.9985e-01, 9.8443e-01, 9.9994e-01, 9.9788e-01, 9.9963e-01, 9.9899e-01,\n",
      "        9.9995e-01, 9.9262e-01, 9.9696e-01, 1.1551e-01, 9.9708e-01, 9.9993e-01,\n",
      "        1.5378e-03, 7.5179e-01, 9.9997e-01, 9.9988e-01, 4.6593e-01, 9.9972e-01,\n",
      "        9.9996e-01, 9.9999e-01, 9.9991e-01, 9.9933e-01, 9.9673e-01, 9.9981e-01,\n",
      "        9.9998e-01, 9.9975e-01, 9.9949e-01, 9.9955e-01, 1.0497e-02, 9.9994e-01,\n",
      "        9.9997e-01, 9.9988e-01, 9.9964e-01, 9.9997e-01, 9.9992e-01, 9.9430e-01,\n",
      "        9.9996e-01, 9.9715e-01, 9.9993e-01, 1.3787e-02, 9.9939e-01, 9.9997e-01,\n",
      "        9.9980e-01, 9.9999e-01, 9.9999e-01, 9.9949e-01, 1.0000e+00, 9.9998e-01,\n",
      "        9.9998e-01, 9.9996e-01, 9.9963e-01, 9.9996e-01, 9.9998e-01, 9.9995e-01,\n",
      "        1.0000e+00, 9.9988e-01, 9.9981e-01, 9.9992e-01, 9.9992e-01, 9.9954e-01,\n",
      "        9.9739e-01, 4.1866e-03, 9.9999e-01, 9.9999e-01, 9.9978e-01, 9.9993e-01,\n",
      "        9.9875e-01, 9.9998e-01, 4.6896e-04, 9.9777e-01, 9.9881e-01, 9.9993e-01,\n",
      "        9.9996e-01, 9.9995e-01, 9.9967e-01, 8.8497e-04, 9.9977e-01, 9.9052e-01,\n",
      "        9.9983e-01, 9.9981e-01, 9.9786e-01, 9.9984e-01, 9.9999e-01, 9.9973e-01,\n",
      "        9.9858e-01, 9.8947e-01, 9.7410e-01, 9.9986e-01, 9.9998e-01, 9.9990e-01,\n",
      "        9.9999e-01, 9.9838e-01, 9.9907e-01, 9.9951e-01, 9.9865e-01, 9.9838e-01,\n",
      "        9.9994e-01, 9.9972e-01, 9.9984e-01, 9.9893e-01, 9.9545e-01, 9.9963e-01,\n",
      "        9.9990e-01, 9.9989e-01, 9.9998e-01, 9.9940e-01, 9.9999e-01, 9.9103e-01,\n",
      "        9.9995e-01, 9.9992e-01, 9.9997e-01, 7.9837e-01, 9.9980e-01],\n",
      "       device='cuda:0', grad_fn=<ViewBackward>)"
     ]
    }
   ],
   "source": [
    "preds"
   ]
  },
  {
   "cell_type": "code",
   "execution_count": 36,
   "metadata": {},
   "outputs": [],
   "source": [
    "EPOCHS = 112"
   ]
  },
  {
   "cell_type": "code",
   "execution_count": 37,
   "metadata": {},
   "outputs": [],
   "source": [
    "model = Test_Model().to(device)\n",
    "optimizer = torch.optim.SGD(model.parameters(),lr=0.25)\n",
    "criterion = nn.L1Loss()\n",
    "wandb.init(project=PROJECT_NAME,name='baseline')\n",
    "for _ in tqdm(range(EPOCHS)):\n",
    "    preds = model(X_train.float().to(device))\n",
    "    preds = preds.view(len(preds),)\n",
    "    preds.to(device)\n",
    "    loss = criterion(preds,y_train)\n",
    "    optimizer.zero_grad()\n",
    "    loss.backward()\n",
    "    optimizer.step()\n",
    "    wandb.log({'loss':loss.item(),'val_loss':get_loss(criterion,X_test,y_test,model),'accuracy':get_accuracy(X_train,y_train,model),'val_accuracy':get_accuracy(X_test,y_test,model)})\n",
    "wandb.finish()"
   ]
  },
  {
   "cell_type": "code",
   "execution_count": 38,
   "metadata": {},
   "outputs": [
    {
     "name": "stdout",
     "output_type": "stream",
     "text": [
      "tensor([0.9880, 0.9966, 0.9928, 0.9993, 0.9945, 0.9985, 0.9992, 0.9986, 0.9604,\n",
      "        0.9843, 0.9983, 0.9989, 0.9810, 0.9966, 0.9971, 0.9914, 0.9979, 0.9936,\n",
      "        0.9994, 0.9958, 0.9898, 0.9890, 0.9988, 0.9989, 0.9984, 0.9992, 0.9932,\n",
      "        0.9990, 0.9984, 0.9966, 0.9428, 0.9990, 0.9857, 0.9972, 0.0142, 0.9867,\n",
      "        0.9843, 0.9986, 0.0058, 0.9897, 0.9982, 0.9985, 0.6632, 0.9665, 0.9915,\n",
      "        0.9952, 0.9930, 0.9137, 0.9967, 0.9988, 0.0649, 0.9993, 0.9887, 0.9982,\n",
      "        0.0165, 0.9994, 0.9919, 0.9751, 0.9603, 0.9991, 0.9989, 0.6089, 0.4025,\n",
      "        0.9986, 0.9984, 0.9970, 0.9992, 0.9993, 0.9719, 0.4760, 0.9992, 0.4174,\n",
      "        0.9928, 0.9998, 0.9792, 0.9997, 0.9997, 0.0263, 0.9977, 0.9995, 0.9938,\n",
      "        0.9990, 0.9096, 0.9843, 0.9994, 0.9937, 0.9603, 0.0387, 0.9990, 0.9992,\n",
      "        0.9969, 0.9883, 0.9962, 0.9999, 0.9930, 0.0889, 0.9987, 0.9982, 0.9687,\n",
      "        0.9825, 0.9953, 0.9863, 0.9995, 0.9993, 0.9990, 0.9988, 0.9301, 0.8482,\n",
      "        0.9995, 0.9993, 0.0379, 0.9988, 0.0200, 0.9955, 0.9974, 0.9549, 0.9984,\n",
      "        0.9836, 0.9949, 0.9896, 0.9984, 0.9706, 0.9724, 0.4221, 0.9694, 0.9983,\n",
      "        0.0086, 0.5668, 0.9991, 0.9975, 0.4560, 0.9958, 0.9989, 0.9993, 0.9974,\n",
      "        0.9918, 0.9828, 0.9968, 0.9994, 0.9933, 0.9921, 0.9945, 0.0285, 0.9985,\n",
      "        0.9989, 0.9977, 0.9948, 0.9989, 0.9982, 0.9379, 0.9989, 0.9783, 0.9982,\n",
      "        0.0756, 0.9842, 0.9990, 0.9964, 0.9996, 0.9994, 0.9933, 0.9997, 0.9994,\n",
      "        0.9994, 0.9988, 0.9942, 0.9983, 0.9993, 0.9987, 0.9997, 0.9975, 0.9966,\n",
      "        0.9980, 0.9983, 0.9940, 0.9802, 0.0201, 0.9996, 0.9996, 0.9965, 0.9983,\n",
      "        0.9881, 0.9993, 0.0036, 0.9825, 0.9888, 0.9985, 0.9989, 0.9987, 0.9949,\n",
      "        0.0060, 0.9963, 0.9553, 0.9964, 0.9960, 0.9831, 0.9973, 0.9995, 0.9957,\n",
      "        0.9877, 0.9373, 0.9473, 0.9975, 0.9992, 0.9980, 0.9995, 0.9766, 0.9903,\n",
      "        0.9930, 0.9864, 0.9865, 0.9984, 0.9955, 0.9971, 0.9880, 0.9765, 0.9945,\n",
      "        0.9979, 0.9977, 0.9992, 0.9925, 0.9997, 0.9563, 0.9985, 0.9982, 0.9991,\n",
      "        0.7863, 0.9965], device='cuda:0', grad_fn=<ViewBackward>)"
     ]
    }
   ],
   "source": [
    "preds"
   ]
  },
  {
   "cell_type": "code",
   "execution_count": 39,
   "metadata": {},
   "outputs": [
    {
     "name": "stdout",
     "output_type": "stream",
     "text": [
      "tensor([1., 1., 1., 1., 1., 1., 1., 1., 1., 1., 1., 1., 1., 1., 1., 1., 1., 1.,\n",
      "        1., 1., 1., 1., 1., 1., 1., 1., 1., 1., 1., 1., 1., 1., 1., 1., 0., 1.,\n",
      "        1., 1., 0., 1., 1., 1., 1., 1., 1., 1., 1., 1., 1., 1., 0., 1., 1., 1.,\n",
      "        0., 1., 1., 1., 1., 1., 1., 1., 0., 1., 1., 1., 1., 1., 1., 0., 1., 0.,\n",
      "        1., 1., 1., 1., 1., 0., 1., 1., 1., 1., 1., 1., 1., 1., 1., 0., 1., 1.,\n",
      "        1., 1., 1., 1., 1., 0., 1., 1., 1., 1., 1., 1., 1., 1., 1., 1., 1., 1.,\n",
      "        1., 1., 0., 1., 0., 1., 1., 1., 1., 1., 1., 1., 1., 1., 1., 0., 1., 1.,\n",
      "        0., 1., 1., 1., 0., 1., 1., 1., 1., 1., 1., 1., 1., 1., 1., 1., 0., 1.,\n",
      "        1., 1., 1., 1., 1., 1., 1., 1., 1., 0., 1., 1., 1., 1., 1., 1., 1., 1.,\n",
      "        1., 1., 1., 1., 1., 1., 1., 1., 1., 1., 1., 1., 1., 0., 1., 1., 1., 1.,\n",
      "        1., 1., 0., 1., 1., 1., 1., 1., 1., 0., 1., 1., 1., 1., 1., 1., 1., 1.,\n",
      "        1., 1., 1., 1., 1., 1., 1., 1., 1., 1., 1., 1., 1., 1., 1., 1., 1., 1.,\n",
      "        1., 1., 1., 1., 1., 1., 1., 1., 1., 1., 1.], device='cuda:0',\n",
      "       grad_fn=<RoundBackward>)"
     ]
    }
   ],
   "source": [
    "torch.round(preds)"
   ]
  },
  {
   "cell_type": "code",
   "execution_count": 40,
   "metadata": {},
   "outputs": [
    {
     "name": "stdout",
     "output_type": "stream",
     "text": [
      "tensor([1., 1., 1., 1., 1., 1., 1., 1., 0., 0., 1., 1.], device='cuda:0')"
     ]
    }
   ],
   "source": [
    "y_train[:12]"
   ]
  },
  {
   "cell_type": "code",
   "execution_count": 41,
   "metadata": {},
   "outputs": [],
   "source": [
    "EPOCHS = 75"
   ]
  },
  {
   "cell_type": "code",
   "execution_count": 42,
   "metadata": {},
   "outputs": [
    {
     "data": {
      "text/html": [
       "\n",
       "                Tracking run with wandb version 0.10.30<br/>\n",
       "                Syncing run <strong style=\"color:#cdcd00\">baseline</strong> to <a href=\"https://wandb.ai\" target=\"_blank\">Weights & Biases</a> <a href=\"https://docs.wandb.com/integrations/jupyter.html\" target=\"_blank\">(Documentation)</a>.<br/>\n",
       "                Project page: <a href=\"https://wandb.ai/ranuga-d/Heart-Disease-UCI\" target=\"_blank\">https://wandb.ai/ranuga-d/Heart-Disease-UCI</a><br/>\n",
       "                Run page: <a href=\"https://wandb.ai/ranuga-d/Heart-Disease-UCI/runs/d05davg9\" target=\"_blank\">https://wandb.ai/ranuga-d/Heart-Disease-UCI/runs/d05davg9</a><br/>\n",
       "                Run data is saved locally in <code>/home/indika/Programming/Projects/Python/Artifical-Intelligence/PyTorch/Classification/Heart-Disease-UCI/wandb/run-20210519_232455-d05davg9</code><br/><br/>\n",
       "            "
      ],
      "text/plain": [
       "<IPython.core.display.HTML object>"
      ]
     },
     "metadata": {},
     "output_type": "display_data"
    }
   ],
   "source": [
    "model = Test_Model().to(device)\n",
    "optimizer = torch.optim.SGD(model.parameters(),lr=0.25)\n",
    "criterion = nn.L1Loss()\n",
    "wandb.init(project=PROJECT_NAME,name='baseline')\n",
    "for _ in tqdm(range(EPOCHS)):\n",
    "    preds = model(X_train.float().to(device))\n",
    "    preds = preds.view(len(preds),)\n",
    "    preds.to(device)\n",
    "    loss = criterion(preds,y_train)\n",
    "    optimizer.zero_grad()\n",
    "    loss.backward()\n",
    "    optimizer.step()\n",
    "    wandb.log({'loss':loss.item(),'val_loss':get_loss(criterion,X_test,y_test,model),'accuracy':get_accuracy(X_train,y_train,model),'val_accuracy':get_accuracy(X_test,y_test,model)})\n",
    "wandb.finish()"
   ]
  }
 ],
 "metadata": {
  "kernelspec": {
   "display_name": "Python 3",
   "language": "python",
   "name": "python3"
  },
  "language_info": {
   "codemirror_mode": {
    "name": "ipython",
    "version": 3
   },
   "file_extension": ".py",
   "mimetype": "text/x-python",
   "name": "python",
   "nbconvert_exporter": "python",
   "pygments_lexer": "ipython3",
   "version": "3.7.3"
  }
 },
 "nbformat": 4,
 "nbformat_minor": 2
}
