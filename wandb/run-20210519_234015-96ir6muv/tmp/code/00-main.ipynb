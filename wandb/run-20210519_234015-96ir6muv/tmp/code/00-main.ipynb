{
 "cells": [
  {
   "cell_type": "markdown",
   "metadata": {},
   "source": [
    "## Load the data\n",
    "## Clean the data\n",
    "## Modelling"
   ]
  },
  {
   "cell_type": "code",
   "execution_count": 1,
   "metadata": {},
   "outputs": [],
   "source": [
    "import pandas as pd"
   ]
  },
  {
   "cell_type": "code",
   "execution_count": 2,
   "metadata": {},
   "outputs": [],
   "source": [
    "data = pd.read_csv('./data.csv')"
   ]
  },
  {
   "cell_type": "code",
   "execution_count": 3,
   "metadata": {},
   "outputs": [],
   "source": [
    "X,y = data.drop('target',axis=1),data['target']"
   ]
  },
  {
   "cell_type": "code",
   "execution_count": 4,
   "metadata": {},
   "outputs": [],
   "source": [
    "from sklearn.model_selection import train_test_split"
   ]
  },
  {
   "cell_type": "code",
   "execution_count": 5,
   "metadata": {},
   "outputs": [],
   "source": [
    "X_train,X_test,y_train,y_test = train_test_split(X,y,test_size=0.25)"
   ]
  },
  {
   "cell_type": "code",
   "execution_count": 6,
   "metadata": {},
   "outputs": [],
   "source": [
    "import torch\n",
    "import torch.nn as nn"
   ]
  },
  {
   "cell_type": "code",
   "execution_count": 7,
   "metadata": {},
   "outputs": [],
   "source": [
    "import numpy as np"
   ]
  },
  {
   "cell_type": "code",
   "execution_count": 8,
   "metadata": {},
   "outputs": [],
   "source": [
    "X_train = torch.from_numpy(np.array(X_train).astype(np.float32))\n",
    "y_train = torch.from_numpy(np.array(y_train).astype(np.float32))\n",
    "X_test = torch.from_numpy(np.array(X_test).astype(np.float32))\n",
    "y_test = torch.from_numpy(np.array(y_test).astype(np.float32))"
   ]
  },
  {
   "cell_type": "code",
   "execution_count": 9,
   "metadata": {},
   "outputs": [
    {
     "data": {
      "text/plain": [
       "torch.Size([227, 13])"
      ]
     },
     "execution_count": 9,
     "metadata": {},
     "output_type": "execute_result"
    }
   ],
   "source": [
    "X_train.shape"
   ]
  },
  {
   "cell_type": "code",
   "execution_count": 10,
   "metadata": {},
   "outputs": [
    {
     "data": {
      "text/plain": [
       "torch.Size([76, 13])"
      ]
     },
     "execution_count": 10,
     "metadata": {},
     "output_type": "execute_result"
    }
   ],
   "source": [
    "X_test.shape"
   ]
  },
  {
   "cell_type": "code",
   "execution_count": 11,
   "metadata": {},
   "outputs": [
    {
     "data": {
      "text/plain": [
       "torch.Size([227])"
      ]
     },
     "execution_count": 11,
     "metadata": {},
     "output_type": "execute_result"
    }
   ],
   "source": [
    "y_train.shape"
   ]
  },
  {
   "cell_type": "code",
   "execution_count": 12,
   "metadata": {},
   "outputs": [
    {
     "data": {
      "text/plain": [
       "torch.Size([76])"
      ]
     },
     "execution_count": 12,
     "metadata": {},
     "output_type": "execute_result"
    }
   ],
   "source": [
    "y_test.shape"
   ]
  },
  {
   "cell_type": "markdown",
   "metadata": {},
   "source": [
    "#### Modelling"
   ]
  },
  {
   "cell_type": "code",
   "execution_count": 13,
   "metadata": {},
   "outputs": [],
   "source": [
    "import torch.nn.functional as F"
   ]
  },
  {
   "cell_type": "code",
   "execution_count": 14,
   "metadata": {},
   "outputs": [],
   "source": [
    "class Test_Model(nn.Module):\n",
    "    def __init__(self):\n",
    "        super().__init__()\n",
    "        self.fc1 = nn.Linear(13,64)\n",
    "        self.fc2 = nn.Linear(64,128)\n",
    "        self.fc3 = nn.Linear(128,256)\n",
    "        self.fc4 = nn.Linear(256,512)\n",
    "        self.fc5 = nn.Linear(512,1024)\n",
    "        self.fc6 = nn.Linear(1024,512)\n",
    "        self.fc7 = nn.Linear(512,1)\n",
    "    \n",
    "    def forward(self,X):\n",
    "        preds = self.fc1(X)\n",
    "        preds = F.relu(preds)\n",
    "        preds = self.fc2(preds)\n",
    "        preds = F.relu(preds)\n",
    "        preds = self.fc3(preds)\n",
    "        preds = F.relu(preds)\n",
    "        preds = self.fc4(preds)\n",
    "        preds = F.relu(preds)\n",
    "        preds = self.fc5(preds)\n",
    "        preds = F.relu(preds)\n",
    "        preds = self.fc6(preds)\n",
    "        preds = F.relu(preds)\n",
    "        preds = self.fc7(preds)\n",
    "        return F.sigmoid(preds)"
   ]
  },
  {
   "cell_type": "code",
   "execution_count": 15,
   "metadata": {},
   "outputs": [],
   "source": [
    "device = torch.device('cuda')"
   ]
  },
  {
   "cell_type": "code",
   "execution_count": 16,
   "metadata": {},
   "outputs": [],
   "source": [
    "X_train = X_train.to(device)\n",
    "y_train = y_train.to(device)\n",
    "X_test = X_test.to(device)\n",
    "y_test = y_test.to(device)"
   ]
  },
  {
   "cell_type": "code",
   "execution_count": 17,
   "metadata": {},
   "outputs": [],
   "source": [
    "PROJECT_NAME = 'Heart-Disease-UCI'"
   ]
  },
  {
   "cell_type": "code",
   "execution_count": 18,
   "metadata": {},
   "outputs": [],
   "source": [
    "def get_loss(criterion,X,y,model):\n",
    "    model.eval()\n",
    "    with torch.no_grad():\n",
    "        preds = model(X.float().to(device))\n",
    "        preds = preds.to(device)\n",
    "        y = y.to(device)\n",
    "        loss = criterion(preds,y)\n",
    "    model.train()\n",
    "    return loss.item()\n",
    "def get_accuracy(X,y,model):\n",
    "    model.eval()\n",
    "    with torch.no_grad():\n",
    "        correct = 0\n",
    "        total = 0\n",
    "        for i in range(len(X)):\n",
    "            pred = model(X[i].float().to(device))\n",
    "            pred.to(device)\n",
    "            if round(int(pred[0])) == round(int(y[i])):\n",
    "                correct += 1\n",
    "            total += 1\n",
    "        if correct == 0:\n",
    "            correct += 1\n",
    "    model.train()\n",
    "    return round(correct/total,3)"
   ]
  },
  {
   "cell_type": "code",
   "execution_count": 19,
   "metadata": {},
   "outputs": [],
   "source": [
    "import wandb"
   ]
  },
  {
   "cell_type": "code",
   "execution_count": 20,
   "metadata": {},
   "outputs": [],
   "source": [
    "from tqdm import tqdm"
   ]
  },
  {
   "cell_type": "code",
   "execution_count": 136,
   "metadata": {},
   "outputs": [],
   "source": [
    "# EPOCHS = 212\n",
    "EPOCHS = 150"
   ]
  },
  {
   "cell_type": "code",
   "execution_count": 137,
   "metadata": {},
   "outputs": [
    {
     "data": {
      "text/html": [
       "\n",
       "                Tracking run with wandb version 0.10.30<br/>\n",
       "                Syncing run <strong style=\"color:#cdcd00\">baseline</strong> to <a href=\"https://wandb.ai\" target=\"_blank\">Weights & Biases</a> <a href=\"https://docs.wandb.com/integrations/jupyter.html\" target=\"_blank\">(Documentation)</a>.<br/>\n",
       "                Project page: <a href=\"https://wandb.ai/ranuga-d/Heart-Disease-UCI\" target=\"_blank\">https://wandb.ai/ranuga-d/Heart-Disease-UCI</a><br/>\n",
       "                Run page: <a href=\"https://wandb.ai/ranuga-d/Heart-Disease-UCI/runs/1nazxaxu\" target=\"_blank\">https://wandb.ai/ranuga-d/Heart-Disease-UCI/runs/1nazxaxu</a><br/>\n",
       "                Run data is saved locally in <code>/home/indika/Programming/Projects/Python/Artifical-Intelligence/PyTorch/Classification/Heart-Disease-UCI/wandb/run-20210519_233855-1nazxaxu</code><br/><br/>\n",
       "            "
      ],
      "text/plain": [
       "<IPython.core.display.HTML object>"
      ]
     },
     "metadata": {},
     "output_type": "display_data"
    },
    {
     "name": "stderr",
     "output_type": "stream",
     "text": [
      "100%|██████████| 150/150 [00:14<00:00, 10.67it/s]\n"
     ]
    },
    {
     "data": {
      "text/html": [
       "<br/>Waiting for W&B process to finish, PID 764447<br/>Program ended successfully."
      ],
      "text/plain": [
       "<IPython.core.display.HTML object>"
      ]
     },
     "metadata": {},
     "output_type": "display_data"
    },
    {
     "data": {
      "application/vnd.jupyter.widget-view+json": {
       "model_id": "fe9f444b8fbd48c4b709a7ecbbea15a8",
       "version_major": 2,
       "version_minor": 0
      },
      "text/plain": [
       "VBox(children=(Label(value=' 0.13MB of 0.13MB uploaded (0.00MB deduped)\\r'), FloatProgress(value=1.0, max=1.0)…"
      ]
     },
     "metadata": {},
     "output_type": "display_data"
    },
    {
     "data": {
      "text/html": [
       "Find user logs for this run at: <code>/home/indika/Programming/Projects/Python/Artifical-Intelligence/PyTorch/Classification/Heart-Disease-UCI/wandb/run-20210519_233855-1nazxaxu/logs/debug.log</code>"
      ],
      "text/plain": [
       "<IPython.core.display.HTML object>"
      ]
     },
     "metadata": {},
     "output_type": "display_data"
    },
    {
     "data": {
      "text/html": [
       "Find internal logs for this run at: <code>/home/indika/Programming/Projects/Python/Artifical-Intelligence/PyTorch/Classification/Heart-Disease-UCI/wandb/run-20210519_233855-1nazxaxu/logs/debug-internal.log</code>"
      ],
      "text/plain": [
       "<IPython.core.display.HTML object>"
      ]
     },
     "metadata": {},
     "output_type": "display_data"
    },
    {
     "data": {
      "text/html": [
       "<h3>Run summary:</h3><br/><style>\n",
       "    table.wandb td:nth-child(1) { padding: 0 10px; text-align: right }\n",
       "    </style><table class=\"wandb\">\n",
       "<tr><td>loss</td><td>0.37226</td></tr><tr><td>val_loss</td><td>0.52059</td></tr><tr><td>accuracy</td><td>0.471</td></tr><tr><td>val_accuracy</td><td>0.408</td></tr><tr><td>_runtime</td><td>21</td></tr><tr><td>_timestamp</td><td>1621447756</td></tr><tr><td>_step</td><td>149</td></tr></table>"
      ],
      "text/plain": [
       "<IPython.core.display.HTML object>"
      ]
     },
     "metadata": {},
     "output_type": "display_data"
    },
    {
     "data": {
      "text/html": [
       "<h3>Run history:</h3><br/><style>\n",
       "    table.wandb td:nth-child(1) { padding: 0 10px; text-align: right }\n",
       "    </style><table class=\"wandb\">\n",
       "<tr><td>loss</td><td>▇▇▆▆▇█▇▅▇▇▇▇▆▇▆▇▃▇▆▇▆▅▃▆▂▆█▂▇▃▂▅▂▅█▂▃▃▁▃</td></tr><tr><td>val_loss</td><td>▂▂▂▄▁▁▁▁▁▁▁▁▃▁▇▁▂▁▄▁▄▆█▃▂▁▇▁▃▂▁▁▅▄▇▅▇▄▅▅</td></tr><tr><td>accuracy</td><td>▁▁▁▁▁▁▁▁▁▁▁▁▁▁▁▁▁▁▁▁▁▁▁▁▁▁▁▁▁▁▁▁▁▁▁▁▁▁▁▁</td></tr><tr><td>val_accuracy</td><td>▁▁▁▁▁▁▁▁▁▁▁▁▁▁▁▁▁▁▁▁▁▁▁▁▁▁▁▁▁▁▁▁▁▁▁▁▁▁▁▁</td></tr><tr><td>_runtime</td><td>▁▁▁▁▁▂▂▂▃▃▃▃▃▃▃▃▄▄▄▅▅▅▅▅▅▅▅▅▆▆▆▇▇▇▇▇▇▇▇█</td></tr><tr><td>_timestamp</td><td>▁▁▁▁▁▂▂▂▃▃▃▃▃▃▃▃▄▄▄▅▅▅▅▅▅▅▅▅▆▆▆▇▇▇▇▇▇▇▇█</td></tr><tr><td>_step</td><td>▁▁▁▁▂▂▂▂▂▃▃▃▃▃▃▄▄▄▄▄▅▅▅▅▅▅▆▆▆▆▆▆▇▇▇▇▇███</td></tr></table><br/>"
      ],
      "text/plain": [
       "<IPython.core.display.HTML object>"
      ]
     },
     "metadata": {},
     "output_type": "display_data"
    },
    {
     "data": {
      "text/html": [
       "Synced 6 W&B file(s), 0 media file(s), 2 artifact file(s) and 1 other file(s)"
      ],
      "text/plain": [
       "<IPython.core.display.HTML object>"
      ]
     },
     "metadata": {},
     "output_type": "display_data"
    },
    {
     "data": {
      "text/html": [
       "\n",
       "                    <br/>Synced <strong style=\"color:#cdcd00\">baseline</strong>: <a href=\"https://wandb.ai/ranuga-d/Heart-Disease-UCI/runs/1nazxaxu\" target=\"_blank\">https://wandb.ai/ranuga-d/Heart-Disease-UCI/runs/1nazxaxu</a><br/>\n",
       "                "
      ],
      "text/plain": [
       "<IPython.core.display.HTML object>"
      ]
     },
     "metadata": {},
     "output_type": "display_data"
    }
   ],
   "source": [
    "model = Test_Model().to(device)\n",
    "optimizer = torch.optim.SGD(model.parameters(),lr=0.25)\n",
    "criterion = nn.L1Loss()\n",
    "wandb.init(project=PROJECT_NAME,name='baseline')\n",
    "for _ in tqdm(range(EPOCHS)):\n",
    "    preds = model(X_train.float().to(device))\n",
    "    preds = preds.view(len(preds),)\n",
    "    preds.to(device)\n",
    "    loss = criterion(preds,y_train)\n",
    "    optimizer.zero_grad()\n",
    "    loss.backward()\n",
    "    optimizer.step()\n",
    "    wandb.log({'loss':loss.item(),'val_loss':get_loss(criterion,X_test,y_test,model),'accuracy':get_accuracy(X_train,y_train,model),'val_accuracy':get_accuracy(X_test,y_test,model)})\n",
    "wandb.finish()"
   ]
  },
  {
   "cell_type": "code",
   "execution_count": 138,
   "metadata": {},
   "outputs": [
    {
     "data": {
      "text/plain": [
       "tensor([9.9668e-01, 9.9938e-01, 9.9739e-01, 9.9998e-01, 9.9903e-01, 9.9960e-01,\n",
       "        9.9996e-01, 9.9973e-01, 2.6602e-02, 9.9098e-01, 9.9990e-01, 9.9994e-01,\n",
       "        9.5160e-01, 9.9970e-01, 9.9918e-01, 9.9880e-01, 9.9962e-01, 9.9762e-01,\n",
       "        9.9998e-01, 9.9803e-01, 9.9720e-01, 9.9430e-01, 9.9978e-01, 9.9996e-01,\n",
       "        9.9974e-01, 9.9996e-01, 9.9774e-01, 9.9996e-01, 9.9987e-01, 9.9946e-01,\n",
       "        6.9243e-03, 9.9995e-01, 9.3821e-01, 9.9947e-01, 4.2673e-04, 9.9286e-01,\n",
       "        9.8938e-01, 9.9994e-01, 1.1568e-04, 9.6151e-01, 9.9983e-01, 9.9982e-01,\n",
       "        1.5249e-03, 6.8518e-01, 9.9795e-01, 9.9668e-01, 9.9547e-01, 8.2238e-01,\n",
       "        9.9930e-01, 9.9995e-01, 1.6853e-03, 9.9998e-01, 9.5828e-01, 9.9989e-01,\n",
       "        4.2189e-04, 9.9998e-01, 9.9415e-01, 9.9243e-01, 8.0771e-01, 9.9990e-01,\n",
       "        9.9995e-01, 6.7366e-03, 4.8897e-03, 9.9981e-01, 9.9991e-01, 9.9971e-01,\n",
       "        9.9996e-01, 9.9997e-01, 1.2036e-02, 1.0629e-02, 9.9993e-01, 1.8467e-03,\n",
       "        9.9703e-01, 1.0000e+00, 9.9106e-01, 9.9999e-01, 9.9999e-01, 6.4933e-04,\n",
       "        9.9979e-01, 9.9999e-01, 9.9917e-01, 9.9990e-01, 2.1211e-02, 9.9637e-01,\n",
       "        9.9998e-01, 9.9771e-01, 4.4849e-02, 1.5200e-03, 9.9996e-01, 9.9997e-01,\n",
       "        9.9961e-01, 9.6675e-01, 9.9949e-01, 1.0000e+00, 9.9876e-01, 1.9453e-03,\n",
       "        9.9996e-01, 9.9991e-01, 5.0616e-03, 9.8247e-01, 9.9946e-01, 9.8410e-01,\n",
       "        9.9999e-01, 9.9993e-01, 9.9988e-01, 9.9994e-01, 2.1398e-02, 5.2560e-02,\n",
       "        9.9999e-01, 9.9997e-01, 1.3909e-03, 9.9994e-01, 7.1694e-04, 9.9955e-01,\n",
       "        9.9981e-01, 1.4975e-01, 9.9982e-01, 9.9124e-01, 9.9937e-01, 9.7226e-01,\n",
       "        9.9979e-01, 5.8348e-01, 9.3447e-01, 4.8748e-03, 3.3957e-01, 9.9991e-01,\n",
       "        1.6340e-04, 4.3367e-03, 9.9997e-01, 9.9959e-01, 6.1754e-03, 9.9935e-01,\n",
       "        9.9995e-01, 9.9998e-01, 9.9973e-01, 9.9826e-01, 3.3945e-01, 9.9951e-01,\n",
       "        9.9998e-01, 9.9607e-01, 9.9258e-01, 9.9209e-01, 1.0022e-03, 9.9994e-01,\n",
       "        9.9987e-01, 9.9981e-01, 9.9852e-01, 9.9986e-01, 9.9986e-01, 2.9035e-02,\n",
       "        9.9995e-01, 9.9264e-01, 9.9992e-01, 1.1833e-03, 6.8490e-01, 9.9985e-01,\n",
       "        9.9935e-01, 9.9999e-01, 9.9994e-01, 9.9242e-01, 1.0000e+00, 9.9998e-01,\n",
       "        9.9998e-01, 9.9994e-01, 9.9774e-01, 9.9957e-01, 9.9998e-01, 9.9988e-01,\n",
       "        9.9999e-01, 9.9959e-01, 9.9940e-01, 9.9956e-01, 9.9990e-01, 9.9759e-01,\n",
       "        9.8573e-01, 4.1516e-04, 9.9997e-01, 9.9999e-01, 9.9964e-01, 9.9991e-01,\n",
       "        9.9498e-01, 9.9991e-01, 4.3442e-05, 9.8610e-01, 9.9497e-01, 9.9992e-01,\n",
       "        9.9991e-01, 9.9995e-01, 9.9877e-01, 1.3315e-04, 9.9965e-01, 8.3406e-01,\n",
       "        9.9888e-01, 9.9703e-01, 9.8892e-01, 9.9977e-01, 9.9999e-01, 9.9952e-01,\n",
       "        9.9593e-01, 3.1071e-02, 1.6481e-02, 9.9970e-01, 9.9996e-01, 9.9979e-01,\n",
       "        9.9999e-01, 7.7703e-01, 9.9290e-01, 9.9739e-01, 9.8837e-01, 9.9703e-01,\n",
       "        9.9978e-01, 9.9961e-01, 9.9939e-01, 9.9410e-01, 7.5840e-01, 9.9831e-01,\n",
       "        9.9989e-01, 9.9950e-01, 9.9997e-01, 9.9661e-01, 9.9999e-01, 8.8794e-01,\n",
       "        9.9978e-01, 9.9971e-01, 9.9997e-01, 6.0625e-03, 9.9924e-01],\n",
       "       device='cuda:0', grad_fn=<ViewBackward>)"
      ]
     },
     "execution_count": 138,
     "metadata": {},
     "output_type": "execute_result"
    }
   ],
   "source": [
    "preds"
   ]
  },
  {
   "cell_type": "code",
   "execution_count": 139,
   "metadata": {},
   "outputs": [],
   "source": [
    "preds = torch.round(preds)"
   ]
  },
  {
   "cell_type": "code",
   "execution_count": 140,
   "metadata": {},
   "outputs": [],
   "source": [
    "correct = 0\n",
    "total = 0"
   ]
  },
  {
   "cell_type": "code",
   "execution_count": 141,
   "metadata": {},
   "outputs": [],
   "source": [
    "for real,pred in zip(y_train,preds):\n",
    "    if real == pred:\n",
    "        correct += 1\n",
    "    total += 1"
   ]
  },
  {
   "cell_type": "code",
   "execution_count": 142,
   "metadata": {},
   "outputs": [
    {
     "data": {
      "text/plain": [
       "0.626"
      ]
     },
     "execution_count": 142,
     "metadata": {},
     "output_type": "execute_result"
    }
   ],
   "source": [
    "round(correct/total,3)"
   ]
  },
  {
   "cell_type": "code",
   "execution_count": null,
   "metadata": {},
   "outputs": [],
   "source": []
  }
 ],
 "metadata": {
  "kernelspec": {
   "display_name": "Python 3.7.3 64-bit ('base': conda)",
   "language": "python",
   "name": "python373jvsc74a57bd0210f9608a45c0278a93c9e0b10db32a427986ab48cfc0d20c139811eb78c4bbc"
  },
  "language_info": {
   "codemirror_mode": {
    "name": "ipython",
    "version": 3
   },
   "file_extension": ".py",
   "mimetype": "text/x-python",
   "name": "python",
   "nbconvert_exporter": "python",
   "pygments_lexer": "ipython3",
   "version": "3.7.3"
  }
 },
 "nbformat": 4,
 "nbformat_minor": 2
}
