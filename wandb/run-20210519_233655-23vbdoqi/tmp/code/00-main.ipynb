{
 "cells": [
  {
   "cell_type": "markdown",
   "metadata": {},
   "source": [
    "## Load the data\n",
    "## Clean the data\n",
    "## Modelling"
   ]
  },
  {
   "cell_type": "code",
   "execution_count": 1,
   "metadata": {},
   "outputs": [],
   "source": [
    "import pandas as pd"
   ]
  },
  {
   "cell_type": "code",
   "execution_count": 2,
   "metadata": {},
   "outputs": [],
   "source": [
    "data = pd.read_csv('./data.csv')"
   ]
  },
  {
   "cell_type": "code",
   "execution_count": 3,
   "metadata": {},
   "outputs": [],
   "source": [
    "X,y = data.drop('target',axis=1),data['target']"
   ]
  },
  {
   "cell_type": "code",
   "execution_count": 4,
   "metadata": {},
   "outputs": [],
   "source": [
    "from sklearn.model_selection import train_test_split"
   ]
  },
  {
   "cell_type": "code",
   "execution_count": 5,
   "metadata": {},
   "outputs": [],
   "source": [
    "X_train,X_test,y_train,y_test = train_test_split(X,y,test_size=0.25)"
   ]
  },
  {
   "cell_type": "code",
   "execution_count": 6,
   "metadata": {},
   "outputs": [],
   "source": [
    "import torch\n",
    "import torch.nn as nn"
   ]
  },
  {
   "cell_type": "code",
   "execution_count": 7,
   "metadata": {},
   "outputs": [],
   "source": [
    "import numpy as np"
   ]
  },
  {
   "cell_type": "code",
   "execution_count": 8,
   "metadata": {},
   "outputs": [],
   "source": [
    "X_train = torch.from_numpy(np.array(X_train).astype(np.float32))\n",
    "y_train = torch.from_numpy(np.array(y_train).astype(np.float32))\n",
    "X_test = torch.from_numpy(np.array(X_test).astype(np.float32))\n",
    "y_test = torch.from_numpy(np.array(y_test).astype(np.float32))"
   ]
  },
  {
   "cell_type": "code",
   "execution_count": 9,
   "metadata": {},
   "outputs": [
    {
     "data": {
      "text/plain": [
       "torch.Size([227, 13])"
      ]
     },
     "execution_count": 9,
     "metadata": {},
     "output_type": "execute_result"
    }
   ],
   "source": [
    "X_train.shape"
   ]
  },
  {
   "cell_type": "code",
   "execution_count": 10,
   "metadata": {},
   "outputs": [
    {
     "data": {
      "text/plain": [
       "torch.Size([76, 13])"
      ]
     },
     "execution_count": 10,
     "metadata": {},
     "output_type": "execute_result"
    }
   ],
   "source": [
    "X_test.shape"
   ]
  },
  {
   "cell_type": "code",
   "execution_count": 11,
   "metadata": {},
   "outputs": [
    {
     "data": {
      "text/plain": [
       "torch.Size([227])"
      ]
     },
     "execution_count": 11,
     "metadata": {},
     "output_type": "execute_result"
    }
   ],
   "source": [
    "y_train.shape"
   ]
  },
  {
   "cell_type": "code",
   "execution_count": 12,
   "metadata": {},
   "outputs": [
    {
     "data": {
      "text/plain": [
       "torch.Size([76])"
      ]
     },
     "execution_count": 12,
     "metadata": {},
     "output_type": "execute_result"
    }
   ],
   "source": [
    "y_test.shape"
   ]
  },
  {
   "cell_type": "markdown",
   "metadata": {},
   "source": [
    "#### Modelling"
   ]
  },
  {
   "cell_type": "code",
   "execution_count": 13,
   "metadata": {},
   "outputs": [],
   "source": [
    "import torch.nn.functional as F"
   ]
  },
  {
   "cell_type": "code",
   "execution_count": 14,
   "metadata": {},
   "outputs": [],
   "source": [
    "class Test_Model(nn.Module):\n",
    "    def __init__(self):\n",
    "        super().__init__()\n",
    "        self.fc1 = nn.Linear(13,64)\n",
    "        self.fc2 = nn.Linear(64,128)\n",
    "        self.fc3 = nn.Linear(128,256)\n",
    "        self.fc4 = nn.Linear(256,512)\n",
    "        self.fc5 = nn.Linear(512,1024)\n",
    "        self.fc6 = nn.Linear(1024,512)\n",
    "        self.fc7 = nn.Linear(512,1)\n",
    "    \n",
    "    def forward(self,X):\n",
    "        preds = self.fc1(X)\n",
    "        preds = F.relu(preds)\n",
    "        preds = self.fc2(preds)\n",
    "        preds = F.relu(preds)\n",
    "        preds = self.fc3(preds)\n",
    "        preds = F.relu(preds)\n",
    "        preds = self.fc4(preds)\n",
    "        preds = F.relu(preds)\n",
    "        preds = self.fc5(preds)\n",
    "        preds = F.relu(preds)\n",
    "        preds = self.fc6(preds)\n",
    "        preds = F.relu(preds)\n",
    "        preds = self.fc7(preds)\n",
    "        return F.sigmoid(preds)"
   ]
  },
  {
   "cell_type": "code",
   "execution_count": 15,
   "metadata": {},
   "outputs": [],
   "source": [
    "device = torch.device('cuda')"
   ]
  },
  {
   "cell_type": "code",
   "execution_count": 16,
   "metadata": {},
   "outputs": [],
   "source": [
    "X_train = X_train.to(device)\n",
    "y_train = y_train.to(device)\n",
    "X_test = X_test.to(device)\n",
    "y_test = y_test.to(device)"
   ]
  },
  {
   "cell_type": "code",
   "execution_count": 17,
   "metadata": {},
   "outputs": [],
   "source": [
    "PROJECT_NAME = 'Heart-Disease-UCI'"
   ]
  },
  {
   "cell_type": "code",
   "execution_count": 18,
   "metadata": {},
   "outputs": [],
   "source": [
    "def get_loss(criterion,X,y,model):\n",
    "    model.eval()\n",
    "    with torch.no_grad():\n",
    "        preds = model(X.float().to(device))\n",
    "        preds = preds.to(device)\n",
    "        y = y.to(device)\n",
    "        loss = criterion(preds,y)\n",
    "    model.train()\n",
    "    return loss.item()\n",
    "def get_accuracy(X,y,model):\n",
    "    model.eval()\n",
    "    with torch.no_grad():\n",
    "        correct = 0\n",
    "        total = 0\n",
    "        for i in range(len(X)):\n",
    "            pred = model(X[i].float().to(device))\n",
    "            pred.to(device)\n",
    "            if round(int(pred[0])) == round(int(y[i])):\n",
    "                correct += 1\n",
    "            total += 1\n",
    "        if correct == 0:\n",
    "            correct += 1\n",
    "    model.train()\n",
    "    return round(correct/total,3)"
   ]
  },
  {
   "cell_type": "code",
   "execution_count": 19,
   "metadata": {},
   "outputs": [],
   "source": [
    "import wandb"
   ]
  },
  {
   "cell_type": "code",
   "execution_count": 20,
   "metadata": {},
   "outputs": [],
   "source": [
    "from tqdm import tqdm"
   ]
  },
  {
   "cell_type": "code",
   "execution_count": 99,
   "metadata": {},
   "outputs": [],
   "source": [
    "EPOCHS = 212"
   ]
  },
  {
   "cell_type": "code",
   "execution_count": 100,
   "metadata": {},
   "outputs": [
    {
     "data": {
      "text/html": [
       "\n",
       "                Tracking run with wandb version 0.10.30<br/>\n",
       "                Syncing run <strong style=\"color:#cdcd00\">baseline</strong> to <a href=\"https://wandb.ai\" target=\"_blank\">Weights & Biases</a> <a href=\"https://docs.wandb.com/integrations/jupyter.html\" target=\"_blank\">(Documentation)</a>.<br/>\n",
       "                Project page: <a href=\"https://wandb.ai/ranuga-d/Heart-Disease-UCI\" target=\"_blank\">https://wandb.ai/ranuga-d/Heart-Disease-UCI</a><br/>\n",
       "                Run page: <a href=\"https://wandb.ai/ranuga-d/Heart-Disease-UCI/runs/35k6lqes\" target=\"_blank\">https://wandb.ai/ranuga-d/Heart-Disease-UCI/runs/35k6lqes</a><br/>\n",
       "                Run data is saved locally in <code>/home/indika/Programming/Projects/Python/Artifical-Intelligence/PyTorch/Classification/Heart-Disease-UCI/wandb/run-20210519_233340-35k6lqes</code><br/><br/>\n",
       "            "
      ],
      "text/plain": [
       "<IPython.core.display.HTML object>"
      ]
     },
     "metadata": {},
     "output_type": "display_data"
    },
    {
     "name": "stderr",
     "output_type": "stream",
     "text": [
      "100%|██████████| 212/212 [00:19<00:00, 10.68it/s]\n"
     ]
    },
    {
     "data": {
      "text/html": [
       "<br/>Waiting for W&B process to finish, PID 757612<br/>Program ended successfully."
      ],
      "text/plain": [
       "<IPython.core.display.HTML object>"
      ]
     },
     "metadata": {},
     "output_type": "display_data"
    },
    {
     "data": {
      "application/vnd.jupyter.widget-view+json": {
       "model_id": "9b5300ace4324ab59e8de376bd21e36d",
       "version_major": 2,
       "version_minor": 0
      },
      "text/plain": [
       "VBox(children=(Label(value=' 0.11MB of 0.11MB uploaded (0.00MB deduped)\\r'), FloatProgress(value=1.0, max=1.0)…"
      ]
     },
     "metadata": {},
     "output_type": "display_data"
    },
    {
     "data": {
      "text/html": [
       "Find user logs for this run at: <code>/home/indika/Programming/Projects/Python/Artifical-Intelligence/PyTorch/Classification/Heart-Disease-UCI/wandb/run-20210519_233340-35k6lqes/logs/debug.log</code>"
      ],
      "text/plain": [
       "<IPython.core.display.HTML object>"
      ]
     },
     "metadata": {},
     "output_type": "display_data"
    },
    {
     "data": {
      "text/html": [
       "Find internal logs for this run at: <code>/home/indika/Programming/Projects/Python/Artifical-Intelligence/PyTorch/Classification/Heart-Disease-UCI/wandb/run-20210519_233340-35k6lqes/logs/debug-internal.log</code>"
      ],
      "text/plain": [
       "<IPython.core.display.HTML object>"
      ]
     },
     "metadata": {},
     "output_type": "display_data"
    },
    {
     "data": {
      "text/html": [
       "<h3>Run summary:</h3><br/><style>\n",
       "    table.wandb td:nth-child(1) { padding: 0 10px; text-align: right }\n",
       "    </style><table class=\"wandb\">\n",
       "<tr><td>loss</td><td>0.33321</td></tr><tr><td>val_loss</td><td>0.5412</td></tr><tr><td>accuracy</td><td>0.471</td></tr><tr><td>val_accuracy</td><td>0.408</td></tr><tr><td>_runtime</td><td>26</td></tr><tr><td>_timestamp</td><td>1621447447</td></tr><tr><td>_step</td><td>211</td></tr></table>"
      ],
      "text/plain": [
       "<IPython.core.display.HTML object>"
      ]
     },
     "metadata": {},
     "output_type": "display_data"
    },
    {
     "data": {
      "text/html": [
       "<h3>Run history:</h3><br/><style>\n",
       "    table.wandb td:nth-child(1) { padding: 0 10px; text-align: right }\n",
       "    </style><table class=\"wandb\">\n",
       "<tr><td>loss</td><td>▇▆█▆▇▅▇▆▅▆▄▆▂▂▆▅▃▃▅▅▁▆▅▅▁▆▆▆▄▃▂▂▂▄▁▁▄▄▅▂</td></tr><tr><td>val_loss</td><td>▂▃▆▁▁▁▁▂█▁▆▂▅▂▂▃▃▂▃▃▄▃▂▄▅▁▁▁▄▃▇▂▇▃▂▆▅▂▂▇</td></tr><tr><td>accuracy</td><td>▁▁▁▁▁▁▁▁▁▁▁▁▁▁▁▁▁▁▁▁▁▁▁▁▁█▅▄▁▁▁▁▁▁▂▁▁▂▂▁</td></tr><tr><td>val_accuracy</td><td>▁▁▁▁▁▁▁▁▁▁▁▁▁▁▁▁▁▁▁▁▁▁▁▁▁█▆▅▁▁▁▂▁▁▃▁▁▃▄▁</td></tr><tr><td>_runtime</td><td>▁▁▁▂▂▂▂▂▂▃▃▃▃▃▃▄▄▄▄▅▅▅▅▅▅▆▆▆▆▆▆▇▇▇▇▇▇███</td></tr><tr><td>_timestamp</td><td>▁▁▁▂▂▂▂▂▂▃▃▃▃▃▃▄▄▄▄▅▅▅▅▅▅▆▆▆▆▆▆▇▇▇▇▇▇███</td></tr><tr><td>_step</td><td>▁▁▁▂▂▂▂▂▂▃▃▃▃▃▃▄▄▄▄▄▅▅▅▅▅▅▆▆▆▆▆▇▇▇▇▇▇███</td></tr></table><br/>"
      ],
      "text/plain": [
       "<IPython.core.display.HTML object>"
      ]
     },
     "metadata": {},
     "output_type": "display_data"
    },
    {
     "data": {
      "text/html": [
       "Synced 6 W&B file(s), 0 media file(s), 2 artifact file(s) and 1 other file(s)"
      ],
      "text/plain": [
       "<IPython.core.display.HTML object>"
      ]
     },
     "metadata": {},
     "output_type": "display_data"
    },
    {
     "data": {
      "text/html": [
       "\n",
       "                    <br/>Synced <strong style=\"color:#cdcd00\">baseline</strong>: <a href=\"https://wandb.ai/ranuga-d/Heart-Disease-UCI/runs/35k6lqes\" target=\"_blank\">https://wandb.ai/ranuga-d/Heart-Disease-UCI/runs/35k6lqes</a><br/>\n",
       "                "
      ],
      "text/plain": [
       "<IPython.core.display.HTML object>"
      ]
     },
     "metadata": {},
     "output_type": "display_data"
    }
   ],
   "source": [
    "model = Test_Model().to(device)\n",
    "optimizer = torch.optim.SGD(model.parameters(),lr=0.25)\n",
    "criterion = nn.L1Loss()\n",
    "wandb.init(project=PROJECT_NAME,name='baseline')\n",
    "for _ in tqdm(range(EPOCHS)):\n",
    "    preds = model(X_train.float().to(device))\n",
    "    preds = preds.view(len(preds),)\n",
    "    preds.to(device)\n",
    "    loss = criterion(preds,y_train)\n",
    "    optimizer.zero_grad()\n",
    "    loss.backward()\n",
    "    optimizer.step()\n",
    "    wandb.log({'loss':loss.item(),'val_loss':get_loss(criterion,X_test,y_test,model),'accuracy':get_accuracy(X_train,y_train,model),'val_accuracy':get_accuracy(X_test,y_test,model)})\n",
    "wandb.finish()"
   ]
  },
  {
   "cell_type": "code",
   "execution_count": 101,
   "metadata": {},
   "outputs": [
    {
     "data": {
      "text/plain": [
       "tensor([9.8601e-01, 9.9877e-01, 9.3843e-01, 9.9999e-01, 9.9681e-01, 9.9916e-01,\n",
       "        9.9998e-01, 9.9972e-01, 9.8272e-05, 5.9647e-01, 9.9990e-01, 9.9998e-01,\n",
       "        7.9422e-03, 9.9932e-01, 9.9524e-01, 9.9524e-01, 9.9924e-01, 9.8631e-01,\n",
       "        1.0000e+00, 9.8496e-01, 9.8665e-01, 7.5634e-02, 9.9964e-01, 9.9998e-01,\n",
       "        9.9973e-01, 9.9997e-01, 9.8398e-01, 9.9998e-01, 9.9986e-01, 9.9856e-01,\n",
       "        1.4424e-04, 9.9997e-01, 3.2496e-03, 9.9890e-01, 6.1286e-06, 9.5147e-01,\n",
       "        5.1428e-02, 9.9998e-01, 2.1197e-06, 2.8309e-03, 9.9941e-01, 9.9977e-01,\n",
       "        3.4037e-05, 2.6914e-03, 9.8659e-01, 9.1255e-01, 9.6271e-01, 1.0141e-02,\n",
       "        9.9777e-01, 9.9997e-01, 6.8597e-05, 9.9999e-01, 2.9409e-03, 9.9985e-01,\n",
       "        1.0449e-05, 9.9999e-01, 8.1083e-01, 9.4298e-01, 4.0970e-03, 9.9983e-01,\n",
       "        9.9996e-01, 2.7183e-04, 3.4019e-04, 9.9964e-01, 9.9995e-01, 9.9945e-01,\n",
       "        9.9997e-01, 9.9998e-01, 1.1800e-04, 7.7805e-04, 9.9995e-01, 6.0815e-05,\n",
       "        9.8051e-01, 1.0000e+00, 9.3195e-01, 1.0000e+00, 1.0000e+00, 2.3670e-05,\n",
       "        9.9949e-01, 1.0000e+00, 9.9811e-01, 9.9996e-01, 1.9794e-04, 9.8612e-01,\n",
       "        9.9998e-01, 9.7032e-01, 1.3102e-03, 7.3355e-05, 9.9999e-01, 9.9997e-01,\n",
       "        9.9920e-01, 2.9464e-03, 9.9852e-01, 1.0000e+00, 9.9209e-01, 9.2144e-05,\n",
       "        9.9999e-01, 9.9991e-01, 8.8222e-05, 4.9424e-02, 9.9895e-01, 3.7267e-03,\n",
       "        1.0000e+00, 9.9997e-01, 9.9985e-01, 9.9990e-01, 4.1393e-04, 1.5809e-03,\n",
       "        1.0000e+00, 9.9999e-01, 5.1706e-05, 9.9996e-01, 2.0524e-05, 9.9942e-01,\n",
       "        9.9970e-01, 2.9605e-03, 9.9979e-01, 3.3951e-01, 9.9711e-01, 6.8091e-03,\n",
       "        9.9987e-01, 1.3754e-03, 1.1509e-02, 2.6004e-04, 1.3055e-03, 9.9993e-01,\n",
       "        2.8523e-06, 1.0133e-04, 9.9997e-01, 9.9919e-01, 3.5274e-04, 9.9882e-01,\n",
       "        9.9997e-01, 1.0000e+00, 9.9973e-01, 9.9632e-01, 1.0319e-03, 9.9729e-01,\n",
       "        1.0000e+00, 9.7355e-01, 4.6626e-01, 9.0164e-03, 3.1053e-05, 9.9996e-01,\n",
       "        9.9994e-01, 9.9951e-01, 9.9617e-01, 9.9992e-01, 9.9977e-01, 3.4408e-04,\n",
       "        9.9995e-01, 9.7069e-01, 9.9994e-01, 4.2009e-05, 6.5298e-04, 9.9900e-01,\n",
       "        9.9906e-01, 9.9999e-01, 9.9998e-01, 4.8858e-01, 1.0000e+00, 9.9999e-01,\n",
       "        1.0000e+00, 9.9994e-01, 9.8889e-01, 9.9942e-01, 9.9999e-01, 9.9989e-01,\n",
       "        1.0000e+00, 9.9913e-01, 9.9838e-01, 9.9910e-01, 9.9991e-01, 9.5188e-01,\n",
       "        2.1076e-02, 7.6102e-06, 9.9999e-01, 1.0000e+00, 9.9949e-01, 9.9991e-01,\n",
       "        9.6068e-01, 9.9994e-01, 6.3255e-07, 1.7546e-01, 9.4282e-01, 9.9991e-01,\n",
       "        9.9983e-01, 9.9997e-01, 9.9572e-01, 2.9804e-06, 9.9920e-01, 9.7096e-03,\n",
       "        9.9528e-01, 7.7600e-01, 1.6164e-01, 9.9959e-01, 9.9999e-01, 9.9820e-01,\n",
       "        9.2966e-01, 9.2767e-04, 3.4519e-04, 9.9918e-01, 9.9998e-01, 9.9955e-01,\n",
       "        1.0000e+00, 2.5729e-03, 7.6436e-03, 9.8522e-01, 1.9126e-01, 9.8859e-01,\n",
       "        9.9988e-01, 9.9914e-01, 9.9749e-01, 9.6692e-01, 2.1400e-03, 9.9089e-01,\n",
       "        9.9994e-01, 9.9809e-01, 9.9999e-01, 9.6193e-01, 1.0000e+00, 9.2860e-03,\n",
       "        9.9986e-01, 9.9864e-01, 9.9998e-01, 2.2304e-04, 9.9808e-01],\n",
       "       device='cuda:0', grad_fn=<ViewBackward>)"
      ]
     },
     "execution_count": 101,
     "metadata": {},
     "output_type": "execute_result"
    }
   ],
   "source": [
    "preds"
   ]
  },
  {
   "cell_type": "code",
   "execution_count": 106,
   "metadata": {},
   "outputs": [],
   "source": [
    "preds = torch.round(preds)"
   ]
  },
  {
   "cell_type": "code",
   "execution_count": 108,
   "metadata": {},
   "outputs": [],
   "source": [
    "correct = 0\n",
    "total = 0"
   ]
  },
  {
   "cell_type": "code",
   "execution_count": null,
   "metadata": {},
   "outputs": [],
   "source": [
    "for real,pred in zip(y_train,preds):\n",
    "    if real == pred:\n",
    "        correct += 1\n",
    "    total += 1"
   ]
  },
  {
   "cell_type": "code",
   "execution_count": null,
   "metadata": {},
   "outputs": [],
   "source": []
  }
 ],
 "metadata": {
  "kernelspec": {
   "display_name": "Python 3.7.3 64-bit ('base': conda)",
   "language": "python",
   "name": "python373jvsc74a57bd0210f9608a45c0278a93c9e0b10db32a427986ab48cfc0d20c139811eb78c4bbc"
  },
  "language_info": {
   "codemirror_mode": {
    "name": "ipython",
    "version": 3
   },
   "file_extension": ".py",
   "mimetype": "text/x-python",
   "name": "python",
   "nbconvert_exporter": "python",
   "pygments_lexer": "ipython3",
   "version": "3.7.3"
  }
 },
 "nbformat": 4,
 "nbformat_minor": 2
}
