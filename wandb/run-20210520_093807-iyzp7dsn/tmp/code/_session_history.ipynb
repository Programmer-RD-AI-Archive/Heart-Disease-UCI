{
 "cells": [
  {
   "cell_type": "code",
   "execution_count": 1,
   "metadata": {},
   "outputs": [],
   "source": [
    "lossess = [nn.L1Loss,nn.MSELoss,torch.nn.HingeEmbeddingLoss,torch.nn.MarginRankingLoss,torch.nn.TripletMarginLossnn.BCELoss]\n",
    "for criterion in lossess:\n",
    "    model = Test_Model(num_of_layers=1,activation=nn.Tanh()).to(device)\n",
    "    model.to(device)\n",
    "    optimizer = torch.optim.SGD(model.parameters(),lr=0.25)\n",
    "    criterion = criterion()\n",
    "    wandb.init(project=PROJECT_NAME,name=f'criterion-{criterion}')\n",
    "    for _ in tqdm(range(212)):\n",
    "        preds = model(X_train.float().to(device),True)\n",
    "        preds = preds.view(len(preds),)\n",
    "        preds.to(device)\n",
    "        loss = criterion(preds,y_train)\n",
    "        optimizer.zero_grad()\n",
    "        loss.backward()\n",
    "        optimizer.step()\n",
    "        wandb.log({'loss':loss.item(),'val_loss':get_loss(criterion,X_test,y_test,model),'accuracy':get_accuracy(preds,y_train)})\n",
    "    wandb.finish()"
   ]
  },
  {
   "cell_type": "code",
   "execution_count": 2,
   "metadata": {},
   "outputs": [],
   "source": [
    "import pandas as pd"
   ]
  },
  {
   "cell_type": "code",
   "execution_count": 3,
   "metadata": {},
   "outputs": [],
   "source": [
    "data = pd.read_csv('./data.csv')"
   ]
  },
  {
   "cell_type": "code",
   "execution_count": 4,
   "metadata": {},
   "outputs": [],
   "source": [
    "X,y = data.drop('target',axis=1),data['target']"
   ]
  },
  {
   "cell_type": "code",
   "execution_count": 5,
   "metadata": {},
   "outputs": [],
   "source": [
    "from sklearn.model_selection import train_test_split"
   ]
  },
  {
   "cell_type": "code",
   "execution_count": 6,
   "metadata": {},
   "outputs": [],
   "source": [
    "X_train,X_test,y_train,y_test = train_test_split(X,y,test_size=0.25)"
   ]
  },
  {
   "cell_type": "code",
   "execution_count": 7,
   "metadata": {},
   "outputs": [],
   "source": [
    "import torch\n",
    "import torch.nn as nn"
   ]
  },
  {
   "cell_type": "code",
   "execution_count": 8,
   "metadata": {},
   "outputs": [],
   "source": [
    "import numpy as np"
   ]
  },
  {
   "cell_type": "code",
   "execution_count": 9,
   "metadata": {},
   "outputs": [],
   "source": [
    "X_train = torch.from_numpy(np.array(X_train).astype(np.float32))\n",
    "y_train = torch.from_numpy(np.array(y_train).astype(np.float32))\n",
    "X_test = torch.from_numpy(np.array(X_test).astype(np.float32))\n",
    "y_test = torch.from_numpy(np.array(y_test).astype(np.float32))"
   ]
  },
  {
   "cell_type": "code",
   "execution_count": 10,
   "metadata": {},
   "outputs": [
    {
     "name": "stdout",
     "output_type": "stream",
     "text": [
      "torch.Size([227, 13])"
     ]
    }
   ],
   "source": [
    "X_train.shape"
   ]
  },
  {
   "cell_type": "code",
   "execution_count": 11,
   "metadata": {},
   "outputs": [
    {
     "name": "stdout",
     "output_type": "stream",
     "text": [
      "torch.Size([76, 13])"
     ]
    }
   ],
   "source": [
    "X_test.shape"
   ]
  },
  {
   "cell_type": "code",
   "execution_count": 12,
   "metadata": {},
   "outputs": [
    {
     "name": "stdout",
     "output_type": "stream",
     "text": [
      "torch.Size([227])"
     ]
    }
   ],
   "source": [
    "y_train.shape"
   ]
  },
  {
   "cell_type": "code",
   "execution_count": 13,
   "metadata": {},
   "outputs": [
    {
     "name": "stdout",
     "output_type": "stream",
     "text": [
      "torch.Size([76])"
     ]
    }
   ],
   "source": [
    "y_test.shape"
   ]
  },
  {
   "cell_type": "code",
   "execution_count": 14,
   "metadata": {},
   "outputs": [],
   "source": [
    "import torch.nn.functional as F"
   ]
  },
  {
   "cell_type": "code",
   "execution_count": 15,
   "metadata": {},
   "outputs": [],
   "source": [
    "class Test_Model(nn.Module):\n",
    "    def __init__(self):\n",
    "        super().__init__()\n",
    "        self.fc1 = nn.Linear(13,64)\n",
    "        self.fc2 = nn.Linear(64,128)\n",
    "        self.fc3 = nn.Linear(128,256)\n",
    "        self.fc4 = nn.Linear(256,512)\n",
    "        self.fc5 = nn.Linear(512,1024)\n",
    "        self.fc6 = nn.Linear(1024,512)\n",
    "        self.fc7 = nn.Linear(512,1)\n",
    "    \n",
    "    def forward(self,X):\n",
    "        preds = self.fc1(X)\n",
    "        preds = F.relu(preds)\n",
    "        preds = self.fc2(preds)\n",
    "        preds = F.relu(preds)\n",
    "        preds = self.fc3(preds)\n",
    "        preds = F.relu(preds)\n",
    "        preds = self.fc4(preds)\n",
    "        preds = F.relu(preds)\n",
    "        preds = self.fc5(preds)\n",
    "        preds = F.relu(preds)\n",
    "        preds = self.fc6(preds)\n",
    "        preds = F.relu(preds)\n",
    "        preds = self.fc7(preds)\n",
    "        return F.sigmoid(preds)"
   ]
  },
  {
   "cell_type": "code",
   "execution_count": 16,
   "metadata": {},
   "outputs": [],
   "source": [
    "device = torch.device('cuda')"
   ]
  },
  {
   "cell_type": "code",
   "execution_count": 17,
   "metadata": {},
   "outputs": [],
   "source": [
    "X_train = X_train.to(device)\n",
    "y_train = y_train.to(device)\n",
    "X_test = X_test.to(device)\n",
    "y_test = y_test.to(device)"
   ]
  },
  {
   "cell_type": "code",
   "execution_count": 18,
   "metadata": {},
   "outputs": [],
   "source": [
    "PROJECT_NAME = 'Heart-Disease-UCI'"
   ]
  },
  {
   "cell_type": "code",
   "execution_count": 19,
   "metadata": {},
   "outputs": [],
   "source": [
    "def get_loss(criterion,X,y,model):\n",
    "    model.eval()\n",
    "    with torch.no_grad():\n",
    "        preds = model(X.float().to(device))\n",
    "        preds = preds.view(len(preds),).to(device)\n",
    "        y = y.view(len(y),).to(device)\n",
    "        loss = criterion(preds,y)\n",
    "    model.train()\n",
    "    return loss.item()\n",
    "def get_accuracy(preds,y):\n",
    "    correct = 0\n",
    "    total = 0\n",
    "    for real,pred in zip(y_train,preds):\n",
    "        if real == pred:\n",
    "            correct += 1\n",
    "        total += 1\n",
    "    return round(correct/total,3)"
   ]
  },
  {
   "cell_type": "code",
   "execution_count": 20,
   "metadata": {},
   "outputs": [],
   "source": [
    "import wandb"
   ]
  },
  {
   "cell_type": "code",
   "execution_count": 21,
   "metadata": {},
   "outputs": [],
   "source": [
    "from tqdm import tqdm"
   ]
  },
  {
   "cell_type": "code",
   "execution_count": 22,
   "metadata": {},
   "outputs": [],
   "source": [
    "EPOCHS = 212\n",
    "# EPOCHS = 100"
   ]
  },
  {
   "cell_type": "code",
   "execution_count": 23,
   "metadata": {},
   "outputs": [],
   "source": [
    "# model = Test_Model().to(device)\n",
    "# optimizer = torch.optim.SGD(model.parameters(),lr=0.25)\n",
    "# criterion = nn.L1Loss()\n",
    "# wandb.init(project=PROJECT_NAME,name='baseline')\n",
    "# for _ in tqdm(range(EPOCHS)):\n",
    "#     preds = model(X_train.float().to(device))\n",
    "#     preds = preds.view(len(preds),)\n",
    "#     preds.to(device)\n",
    "#     loss = criterion(preds,y_train)\n",
    "#     optimizer.zero_grad()\n",
    "#     loss.backward()\n",
    "#     optimizer.step()\n",
    "#     wandb.log({'loss':loss.item(),'val_loss':get_loss(criterion,X_test,y_test,model),'accuracy':get_accuracy(X_train,y_train,model),'val_accuracy':get_accuracy(X_test,y_test,model)})\n",
    "# wandb.finish()"
   ]
  },
  {
   "cell_type": "code",
   "execution_count": 24,
   "metadata": {},
   "outputs": [],
   "source": [
    "# preds[:10]"
   ]
  },
  {
   "cell_type": "code",
   "execution_count": 25,
   "metadata": {},
   "outputs": [],
   "source": [
    "# preds = torch.round(preds)"
   ]
  },
  {
   "cell_type": "code",
   "execution_count": 26,
   "metadata": {},
   "outputs": [],
   "source": [
    "# correct = 0\n",
    "# total = 0\n",
    "# for real,pred in zip(y_train,preds):\n",
    "#     if real == pred:\n",
    "#         correct += 1\n",
    "# #     total += 1"
   ]
  },
  {
   "cell_type": "code",
   "execution_count": 27,
   "metadata": {},
   "outputs": [],
   "source": [
    "# round(correct/total,3)"
   ]
  },
  {
   "cell_type": "code",
   "execution_count": 28,
   "metadata": {},
   "outputs": [],
   "source": [
    "## Testing Modelling"
   ]
  },
  {
   "cell_type": "code",
   "execution_count": 29,
   "metadata": {},
   "outputs": [],
   "source": [
    "import torch\n",
    "import torch.nn as nn"
   ]
  },
  {
   "cell_type": "code",
   "execution_count": 30,
   "metadata": {},
   "outputs": [],
   "source": [
    "class Test_Model(nn.Module):\n",
    "    def __init__(self,num_of_layers=1,activation=F.relu,input_shape=13,fc1_output=32,fc2_output=64,fc3_output=128,fc4_output=256,output_shape=1):\n",
    "        super().__init__()\n",
    "        self.num_of_layers = num_of_layers\n",
    "        self.activation = activation\n",
    "        self.fc1 = nn.Linear(input_shape,fc1_output)\n",
    "        self.fc2 = nn.Linear(fc1_output,fc2_output)\n",
    "        self.fc3 = nn.Linear(fc2_output,fc3_output)\n",
    "        self.fc4 = nn.Linear(fc3_output,fc4_output)\n",
    "        self.fc5 = nn.Linear(fc4_output,fc3_output)\n",
    "        self.fc6 = nn.Linear(fc3_output,fc3_output)\n",
    "        self.fc7 = nn.Linear(fc3_output,output_shape)\n",
    "    \n",
    "    def forward(self,X,activation=False):\n",
    "        preds = self.fc1(X)\n",
    "        if activation:\n",
    "                 preds = self.activation(preds)\n",
    "        preds = self.fc2(preds)\n",
    "        if activation:\n",
    "                 preds = self.activation(preds)\n",
    "        preds = self.fc3(preds)\n",
    "        if activation:\n",
    "                 preds = self.activation(preds)\n",
    "        preds = self.fc4(preds)\n",
    "        if activation:\n",
    "                 preds = self.activation(preds)\n",
    "        preds = self.fc5(preds)\n",
    "        if activation:\n",
    "                 preds = self.activation(preds)\n",
    "        for _ in range(self.num_of_layers):\n",
    "            preds = self.fc6(preds)\n",
    "            if activation:\n",
    "                     preds = self.activation(preds)\n",
    "        preds =  self.fc7(preds)\n",
    "        preds = F.sigmoid(preds)\n",
    "        return preds"
   ]
  },
  {
   "cell_type": "code",
   "execution_count": 31,
   "metadata": {},
   "outputs": [],
   "source": [
    "device = torch.device('cuda')"
   ]
  },
  {
   "cell_type": "code",
   "execution_count": 32,
   "metadata": {},
   "outputs": [],
   "source": [
    "# preds = torch.round(preds)"
   ]
  },
  {
   "cell_type": "code",
   "execution_count": 33,
   "metadata": {},
   "outputs": [],
   "source": [
    "# num_of_layers = 1\n",
    "# input_shape\n",
    "# fc1_output\n",
    "# fc2_output\n",
    "# fc3_output\n",
    "# fc4_output\n",
    "# output_shape\n",
    "# optimizer = torch.optim.SGD\n",
    "# criterion = \n",
    "# lr\n",
    "# activtion = nn.Tanh()"
   ]
  },
  {
   "cell_type": "code",
   "execution_count": 34,
   "metadata": {},
   "outputs": [],
   "source": [
    "lossess = [nn.L1Loss,nn.MSELoss,torch.nn.HingeEmbeddingLoss,torch.nn.MarginRankingLoss,torch.nn.TripletMarginLossnn.BCELoss]\n",
    "for criterion in lossess:\n",
    "    model = Test_Model(num_of_layers=1,activation=nn.Tanh()).to(device)\n",
    "    model.to(device)\n",
    "    optimizer = torch.optim.SGD(model.parameters(),lr=0.25)\n",
    "    criterion = criterion()\n",
    "    wandb.init(project=PROJECT_NAME,name=f'criterion-{criterion}')\n",
    "    for _ in tqdm(range(212)):\n",
    "        preds = model(X_train.float().to(device),True)\n",
    "        preds = preds.view(len(preds),)\n",
    "        preds.to(device)\n",
    "        loss = criterion(preds,y_train)\n",
    "        optimizer.zero_grad()\n",
    "        loss.backward()\n",
    "        optimizer.step()\n",
    "        wandb.log({'loss':loss.item(),'val_loss':get_loss(criterion,X_test,y_test,model),'accuracy':get_accuracy(preds,y_train)})\n",
    "    wandb.finish()"
   ]
  },
  {
   "cell_type": "code",
   "execution_count": 35,
   "metadata": {},
   "outputs": [],
   "source": [
    "lossess = [nn.L1Loss,nn.MSELoss,torch.nn.HingeEmbeddingLoss,torch.nn.MarginRankingLoss,torch.nn.TripletMarginLossnn,torch.nn.BCELoss]\n",
    "for criterion in lossess:\n",
    "    model = Test_Model(num_of_layers=1,activation=nn.Tanh()).to(device)\n",
    "    model.to(device)\n",
    "    optimizer = torch.optim.SGD(model.parameters(),lr=0.25)\n",
    "    criterion = criterion()\n",
    "    wandb.init(project=PROJECT_NAME,name=f'criterion-{criterion}')\n",
    "    for _ in tqdm(range(212)):\n",
    "        preds = model(X_train.float().to(device),True)\n",
    "        preds = preds.view(len(preds),)\n",
    "        preds.to(device)\n",
    "        loss = criterion(preds,y_train)\n",
    "        optimizer.zero_grad()\n",
    "        loss.backward()\n",
    "        optimizer.step()\n",
    "        wandb.log({'loss':loss.item(),'val_loss':get_loss(criterion,X_test,y_test,model),'accuracy':get_accuracy(preds,y_train)})\n",
    "    wandb.finish()"
   ]
  },
  {
   "cell_type": "code",
   "execution_count": 36,
   "metadata": {},
   "outputs": [],
   "source": [
    "lossess = [nn.L1Loss,nn.MSELoss,torch.nn.HingeEmbeddingLoss,torch.nn.MarginRankingLoss,torch.nn.TripletMarginLoss,torch.nn.BCELoss]\n",
    "for criterion in lossess:\n",
    "    model = Test_Model(num_of_layers=1,activation=nn.Tanh()).to(device)\n",
    "    model.to(device)\n",
    "    optimizer = torch.optim.SGD(model.parameters(),lr=0.25)\n",
    "    criterion = criterion()\n",
    "    wandb.init(project=PROJECT_NAME,name=f'criterion-{criterion}')\n",
    "    for _ in tqdm(range(212)):\n",
    "        preds = model(X_train.float().to(device),True)\n",
    "        preds = preds.view(len(preds),)\n",
    "        preds.to(device)\n",
    "        loss = criterion(preds,y_train)\n",
    "        optimizer.zero_grad()\n",
    "        loss.backward()\n",
    "        optimizer.step()\n",
    "        wandb.log({'loss':loss.item(),'val_loss':get_loss(criterion,X_test,y_test,model),'accuracy':get_accuracy(preds,y_train)})\n",
    "    wandb.finish()"
   ]
  },
  {
   "cell_type": "code",
   "execution_count": 37,
   "metadata": {},
   "outputs": [],
   "source": [
    "# nn.L1Loss,nn.MSELoss,torch.nn.HingeEmbeddingLoss,\n",
    "lossess = [torch.nn.TripletMarginLoss,torch.nn.BCELoss]\n",
    "for criterion in lossess:\n",
    "    model = Test_Model(num_of_layers=1,activation=nn.Tanh()).to(device)\n",
    "    model.to(device)\n",
    "    optimizer = torch.optim.SGD(model.parameters(),lr=0.25)\n",
    "    criterion = criterion()\n",
    "    wandb.init(project=PROJECT_NAME,name=f'criterion-{criterion}')\n",
    "    for _ in tqdm(range(212)):\n",
    "        preds = model(X_train.float().to(device),True)\n",
    "        preds = preds.view(len(preds),)\n",
    "        preds.to(device)\n",
    "        loss = criterion(preds,y_train)\n",
    "        optimizer.zero_grad()\n",
    "        loss.backward()\n",
    "        optimizer.step()\n",
    "        wandb.log({'loss':loss.item(),'val_loss':get_loss(criterion,X_test,y_test,model),'accuracy':get_accuracy(preds,y_train)})\n",
    "    wandb.finish()"
   ]
  },
  {
   "cell_type": "code",
   "execution_count": 38,
   "metadata": {},
   "outputs": [],
   "source": [
    "# nn.L1Loss,nn.MSELoss,torch.nn.HingeEmbeddingLoss,\n",
    "lossess = [torch.nn.BCELoss]\n",
    "for criterion in lossess:\n",
    "    model = Test_Model(num_of_layers=1,activation=nn.Tanh()).to(device)\n",
    "    model.to(device)\n",
    "    optimizer = torch.optim.SGD(model.parameters(),lr=0.25)\n",
    "    criterion = criterion()\n",
    "    wandb.init(project=PROJECT_NAME,name=f'criterion-{criterion}')\n",
    "    for _ in tqdm(range(212)):\n",
    "        preds = model(X_train.float().to(device),True)\n",
    "        preds = preds.view(len(preds),)\n",
    "        preds.to(device)\n",
    "        loss = criterion(preds,y_train)\n",
    "        optimizer.zero_grad()\n",
    "        loss.backward()\n",
    "        optimizer.step()\n",
    "        wandb.log({'loss':loss.item(),'val_loss':get_loss(criterion,X_test,y_test,model),'accuracy':get_accuracy(preds,y_train)})\n",
    "    wandb.finish()"
   ]
  },
  {
   "cell_type": "code",
   "execution_count": 39,
   "metadata": {},
   "outputs": [],
   "source": [
    "lrs = [0.1,1.0,0.25,0.125,0.5,0.75,0.01,0.001,0.0001]\n",
    "for lr in lrs:\n",
    "    model = Test_Model(num_of_layers=1,activation=nn.Tanh()).to(device)\n",
    "    model.to(device)\n",
    "    optimizer = torch.optim.SGD(model.parameters(),lr=lr)\n",
    "    criterion = nn.MSELoss()\n",
    "    wandb.init(project=PROJECT_NAME,name=f'lr-{lr}')\n",
    "    for _ in tqdm(range(212)):\n",
    "        preds = model(X_train.float().to(device),True)\n",
    "        preds = preds.view(len(preds),)\n",
    "        preds.to(device)\n",
    "        loss = criterion(preds,y_train)\n",
    "        optimizer.zero_grad()\n",
    "        loss.backward()\n",
    "        optimizer.step()\n",
    "        wandb.log({'loss':loss.item(),'val_loss':get_loss(criterion,X_test,y_test,model),'accuracy':get_accuracy(preds,y_train)})\n",
    "    wandb.finish()"
   ]
  },
  {
   "cell_type": "code",
   "execution_count": 40,
   "metadata": {},
   "outputs": [],
   "source": [
    "fc1_outputs = [16,32,64,128,256]\n",
    "for fc1_output in fc1_outputs:\n",
    "    model = Test_Model(num_of_layers=1,activation=nn.Tanh()fc1_outputs=fc1_output).to(device)\n",
    "    model.to(device)\n",
    "    optimizer = torch.optim.SGD(model.parameters(),lr=0.125)\n",
    "    criterion = nn.MSELoss()\n",
    "    wandb.init(project=PROJECT_NAME,name=f'fc1_output-{fc1_output}')\n",
    "    for _ in tqdm(range(212)):\n",
    "        preds = model(X_train.float().to(device),True)\n",
    "        preds = preds.view(len(preds),)\n",
    "        preds.to(device)\n",
    "        loss = criterion(preds,y_train)\n",
    "        optimizer.zero_grad()\n",
    "        loss.backward()\n",
    "        optimizer.step()\n",
    "        wandb.log({'loss':loss.item(),'val_loss':get_loss(criterion,X_test,y_test,model),'accuracy':get_accuracy(preds,y_train)})\n",
    "    wandb.finish()"
   ]
  },
  {
   "cell_type": "code",
   "execution_count": 41,
   "metadata": {},
   "outputs": [],
   "source": [
    "fc1_outputs = [16,32,64,128,256]\n",
    "for fc1_output in fc1_outputs:\n",
    "    model = Test_Model(num_of_layers=1,activation=nn.Tanh(),fc1_outputs=fc1_output).to(device)\n",
    "    model.to(device)\n",
    "    optimizer = torch.optim.SGD(model.parameters(),lr=0.125)\n",
    "    criterion = nn.MSELoss()\n",
    "    wandb.init(project=PROJECT_NAME,name=f'fc1_output-{fc1_output}')\n",
    "    for _ in tqdm(range(212)):\n",
    "        preds = model(X_train.float().to(device),True)\n",
    "        preds = preds.view(len(preds),)\n",
    "        preds.to(device)\n",
    "        loss = criterion(preds,y_train)\n",
    "        optimizer.zero_grad()\n",
    "        loss.backward()\n",
    "        optimizer.step()\n",
    "        wandb.log({'loss':loss.item(),'val_loss':get_loss(criterion,X_test,y_test,model),'accuracy':get_accuracy(preds,y_train)})\n",
    "    wandb.finish()"
   ]
  },
  {
   "cell_type": "code",
   "execution_count": 42,
   "metadata": {},
   "outputs": [],
   "source": [
    "fc1_outputs = [16,32,64,128,256]\n",
    "for fc1_output in fc1_outputs:\n",
    "    model = Test_Model(num_of_layers=1,activation=nn.Tanh(),fc1_output=fc1_output).to(device)\n",
    "    model.to(device)\n",
    "    optimizer = torch.optim.SGD(model.parameters(),lr=0.125)\n",
    "    criterion = nn.MSELoss()\n",
    "    wandb.init(project=PROJECT_NAME,name=f'fc1_output-{fc1_output}')\n",
    "    for _ in tqdm(range(212)):\n",
    "        preds = model(X_train.float().to(device),True)\n",
    "        preds = preds.view(len(preds),)\n",
    "        preds.to(device)\n",
    "        loss = criterion(preds,y_train)\n",
    "        optimizer.zero_grad()\n",
    "        loss.backward()\n",
    "        optimizer.step()\n",
    "        wandb.log({'loss':loss.item(),'val_loss':get_loss(criterion,X_test,y_test,model),'accuracy':get_accuracy(preds,y_train)})\n",
    "    wandb.finish()"
   ]
  },
  {
   "cell_type": "code",
   "execution_count": 43,
   "metadata": {},
   "outputs": [],
   "source": [
    "fc2_outputs = [16,32,64,128,256,512]\n",
    "for fc2_output in fc2_outputs:\n",
    "    model = Test_Model(num_of_layers=1,activation=nn.Tanh(),fc1_output=256,fc2_output=fc2_output).to(device)\n",
    "    model.to(device)\n",
    "    optimizer = torch.optim.SGD(model.parameters(),lr=0.125)\n",
    "    criterion = nn.MSELoss()\n",
    "    wandb.init(project=PROJECT_NAME,name=f'fc2_output-{fc2_output}')\n",
    "    for _ in tqdm(range(212)):\n",
    "        preds = model(X_train.float().to(device),True)\n",
    "        preds = preds.view(len(preds),)\n",
    "        preds.to(device)\n",
    "        loss = criterion(preds,y_train)\n",
    "        optimizer.zero_grad()\n",
    "        loss.backward()\n",
    "        optimizer.step()\n",
    "        wandb.log({'loss':loss.item(),'val_loss':get_loss(criterion,X_test,y_test,model),'accuracy':get_accuracy(preds,y_train)})\n",
    "    wandb.finish()"
   ]
  },
  {
   "cell_type": "code",
   "execution_count": 44,
   "metadata": {},
   "outputs": [
    {
     "data": {
      "text/html": [
       "\n",
       "                Tracking run with wandb version 0.10.30<br/>\n",
       "                Syncing run <strong style=\"color:#cdcd00\">fc3_output-64</strong> to <a href=\"https://wandb.ai\" target=\"_blank\">Weights & Biases</a> <a href=\"https://docs.wandb.com/integrations/jupyter.html\" target=\"_blank\">(Documentation)</a>.<br/>\n",
       "                Project page: <a href=\"https://wandb.ai/ranuga-d/Heart-Disease-UCI\" target=\"_blank\">https://wandb.ai/ranuga-d/Heart-Disease-UCI</a><br/>\n",
       "                Run page: <a href=\"https://wandb.ai/ranuga-d/Heart-Disease-UCI/runs/iyzp7dsn\" target=\"_blank\">https://wandb.ai/ranuga-d/Heart-Disease-UCI/runs/iyzp7dsn</a><br/>\n",
       "                Run data is saved locally in <code>/home/indika/Programming/Projects/Python/Artifical-Intelligence/PyTorch/Classification/Heart-Disease-UCI/wandb/run-20210520_093807-iyzp7dsn</code><br/><br/>\n",
       "            "
      ],
      "text/plain": [
       "<IPython.core.display.HTML object>"
      ]
     },
     "metadata": {},
     "output_type": "display_data"
    }
   ],
   "source": [
    "fc3_outputs = [16,32,64,128,256,512,1024]\n",
    "for fc3_output in fc3_outputs:\n",
    "    model = Test_Model(num_of_layers=1,activation=nn.Tanh(),fc1_output=256,fc2_output=64,fc3_output=fc3_output).to(device)\n",
    "    model.to(device)\n",
    "    optimizer = torch.optim.SGD(model.parameters(),lr=0.125)\n",
    "    criterion = nn.MSELoss()\n",
    "    wandb.init(project=PROJECT_NAME,name=f'fc3_output-{fc3_output}')\n",
    "    for _ in tqdm(range(212)):\n",
    "        preds = model(X_train.float().to(device),True)\n",
    "        preds = preds.view(len(preds),)\n",
    "        preds.to(device)\n",
    "        loss = criterion(preds,y_train)\n",
    "        optimizer.zero_grad()\n",
    "        loss.backward()\n",
    "        optimizer.step()\n",
    "        wandb.log({'loss':loss.item(),'val_loss':get_loss(criterion,X_test,y_test,model),'accuracy':get_accuracy(preds,y_train)})\n",
    "    wandb.finish()"
   ]
  }
 ],
 "metadata": {
  "kernelspec": {
   "display_name": "Python 3",
   "language": "python",
   "name": "python3"
  },
  "language_info": {
   "codemirror_mode": {
    "name": "ipython",
    "version": 3
   },
   "file_extension": ".py",
   "mimetype": "text/x-python",
   "name": "python",
   "nbconvert_exporter": "python",
   "pygments_lexer": "ipython3",
   "version": "3.7.3"
  }
 },
 "nbformat": 4,
 "nbformat_minor": 2
}
